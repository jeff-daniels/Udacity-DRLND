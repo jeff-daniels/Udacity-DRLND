{
 "cells": [
  {
   "cell_type": "markdown",
   "metadata": {},
   "source": [
    "# Continuous Control\n",
    "\n",
    "---\n",
    "\n",
    "You are welcome to use this coding environment to train your agent for the project.  Follow the instructions below to get started!\n",
    "\n",
    "### 1. Start the Environment\n",
    "\n",
    "Run the next code cell to install a few packages.  This line will take a few minutes to run!"
   ]
  },
  {
   "cell_type": "code",
   "execution_count": 2,
   "metadata": {},
   "outputs": [
    {
     "name": "stdout",
     "output_type": "stream",
     "text": [
      "\u001b[31mtensorflow 1.7.1 has requirement numpy>=1.13.3, but you'll have numpy 1.12.1 which is incompatible.\u001b[0m\r\n",
      "\u001b[31mipython 6.5.0 has requirement prompt-toolkit<2.0.0,>=1.0.15, but you'll have prompt-toolkit 3.0.5 which is incompatible.\u001b[0m\r\n"
     ]
    }
   ],
   "source": [
    "!pip -q install ./python"
   ]
  },
  {
   "cell_type": "markdown",
   "metadata": {},
   "source": [
    "The environments corresponding to both versions of the environment are already saved in the Workspace and can be accessed at the file paths provided below.  \n",
    "\n",
    "Please select one of the two options below for loading the environment."
   ]
  },
  {
   "cell_type": "code",
   "execution_count": 3,
   "metadata": {},
   "outputs": [
    {
     "name": "stderr",
     "output_type": "stream",
     "text": [
      "INFO:unityagents:\n",
      "'Academy' started successfully!\n",
      "Unity Academy name: Academy\n",
      "        Number of Brains: 1\n",
      "        Number of External Brains : 1\n",
      "        Lesson number : 0\n",
      "        Reset Parameters :\n",
      "\t\tgoal_speed -> 1.0\n",
      "\t\tgoal_size -> 5.0\n",
      "Unity brain name: ReacherBrain\n",
      "        Number of Visual Observations (per agent): 0\n",
      "        Vector Observation space type: continuous\n",
      "        Vector Observation space size (per agent): 33\n",
      "        Number of stacked Vector Observation: 1\n",
      "        Vector Action space type: continuous\n",
      "        Vector Action space size (per agent): 4\n",
      "        Vector Action descriptions: , , , \n"
     ]
    }
   ],
   "source": [
    "from unityagents import UnityEnvironment\n",
    "import numpy as np\n",
    "import pandas as pd\n",
    "import random\n",
    "import importlib\n",
    "import time\n",
    "import torch\n",
    "from collections import deque\n",
    "import matplotlib.pyplot as plt\n",
    "%matplotlib inline\n",
    "\n",
    "import ddpg_agent\n",
    "from helper import *\n",
    "RANDOM_SEED = 42\n",
    "\n",
    "# select this option to load version 1 (with a single agent) of the environment\n",
    "env = UnityEnvironment(file_name='/data/Reacher_One_Linux_NoVis/Reacher_One_Linux_NoVis.x86_64', seed=RANDOM_SEED)\n",
    "\n",
    "# select this option to load version 2 (with 20 agents) of the environment\n",
    "# env = UnityEnvironment(file_name='/data/Reacher_Linux_NoVis/Reacher.x86_64', seed=RANDOM_SEED)"
   ]
  },
  {
   "cell_type": "markdown",
   "metadata": {},
   "source": [
    "Environments contain **_brains_** which are responsible for deciding the actions of their associated agents. Here we check for the first brain available, and set it as the default brain we will be controlling from Python."
   ]
  },
  {
   "cell_type": "code",
   "execution_count": 4,
   "metadata": {},
   "outputs": [],
   "source": [
    "# get the default brain\n",
    "brain_name = env.brain_names[0]\n",
    "brain = env.brains[brain_name]"
   ]
  },
  {
   "cell_type": "markdown",
   "metadata": {},
   "source": [
    "### 2. Examine the State and Action Spaces\n",
    "\n",
    "Run the code cell below to print some information about the environment."
   ]
  },
  {
   "cell_type": "code",
   "execution_count": 5,
   "metadata": {
    "scrolled": true
   },
   "outputs": [
    {
     "name": "stdout",
     "output_type": "stream",
     "text": [
      "Number of agents: 1\n",
      "Size of each action: 4\n",
      "There are 1 agents. Each observes a state with length: 33\n",
      "The state for the first agent looks like: [  0.00000000e+00  -4.00000000e+00   0.00000000e+00   1.00000000e+00\n",
      "  -0.00000000e+00  -0.00000000e+00  -4.37113883e-08   0.00000000e+00\n",
      "   0.00000000e+00   0.00000000e+00   0.00000000e+00   0.00000000e+00\n",
      "   0.00000000e+00   0.00000000e+00  -1.00000000e+01   0.00000000e+00\n",
      "   1.00000000e+00  -0.00000000e+00  -0.00000000e+00  -4.37113883e-08\n",
      "   0.00000000e+00   0.00000000e+00   0.00000000e+00   0.00000000e+00\n",
      "   0.00000000e+00   0.00000000e+00  -7.79496002e+00  -1.00000000e+00\n",
      "   1.79960966e+00   0.00000000e+00   1.00000000e+00   0.00000000e+00\n",
      "   1.64491057e-01]\n"
     ]
    }
   ],
   "source": [
    "# reset the environment\n",
    "env_info = env.reset(train_mode=True)[brain_name]\n",
    "\n",
    "# number of agents\n",
    "num_agents = len(env_info.agents)\n",
    "print('Number of agents:', num_agents)\n",
    "\n",
    "# size of each action\n",
    "action_size = brain.vector_action_space_size\n",
    "print('Size of each action:', action_size)\n",
    "\n",
    "# examine the state space \n",
    "states = env_info.vector_observations\n",
    "state_size = states.shape[1]\n",
    "print('There are {} agents. Each observes a state with length: {}'.format(states.shape[0], state_size))\n",
    "print('The state for the first agent looks like:', states[0])"
   ]
  },
  {
   "cell_type": "markdown",
   "metadata": {},
   "source": [
    "### 3. Take Random Actions in the Environment\n",
    "\n",
    "In the next code cell, you will learn how to use the Python API to control the agent and receive feedback from the environment.\n",
    "\n",
    "Note that **in this coding environment, you will not be able to watch the agents while they are training**, and you should set `train_mode=True` to restart the environment."
   ]
  },
  {
   "cell_type": "code",
   "execution_count": 6,
   "metadata": {},
   "outputs": [
    {
     "name": "stdout",
     "output_type": "stream",
     "text": [
      "Total score (averaged over agents) this episode: 0.0\n"
     ]
    }
   ],
   "source": [
    "env_info = env.reset(train_mode=True)[brain_name]      # reset the environment    \n",
    "states = env_info.vector_observations                  # get the current state (for each agent)\n",
    "scores = np.zeros(num_agents)                          # initialize the score (for each agent)\n",
    "while True:\n",
    "    actions = np.random.randn(num_agents, action_size) # select an action (for each agent)\n",
    "    actions = np.clip(actions, -1, 1)                  # all actions between -1 and 1\n",
    "    env_info = env.step(actions)[brain_name]           # send all actions to tne environment\n",
    "    next_states = env_info.vector_observations         # get next state (for each agent)\n",
    "    rewards = env_info.rewards                         # get reward (for each agent)\n",
    "    dones = env_info.local_done                        # see if episode finished\n",
    "    scores += env_info.rewards                         # update the score (for each agent)\n",
    "    states = next_states                               # roll over states to next time step\n",
    "    if np.any(dones):                                  # exit loop if episode finished\n",
    "        break\n",
    "print('Total score (averaged over agents) this episode: {}'.format(np.mean(scores)))"
   ]
  },
  {
   "cell_type": "markdown",
   "metadata": {},
   "source": [
    "This cell is the same as above, but using a ddpg agent."
   ]
  },
  {
   "cell_type": "code",
   "execution_count": 7,
   "metadata": {},
   "outputs": [
    {
     "name": "stdout",
     "output_type": "stream",
     "text": [
      "Time Steps: 1001\n",
      "Total score (averaged over agents) this episode: 0.0\n"
     ]
    }
   ],
   "source": [
    "env_info = env.reset(train_mode=True)[brain_name]      # reset the environment    \n",
    "states = env_info.vector_observations                  # get the current state (for each agent)\n",
    "scores = np.zeros(num_agents)                          # initialize the score (for each agent)\n",
    "memory = ddpg_agent.ReplayBuffer(action_size, ddpg_agent.BUFFER_SIZE, ddpg_agent.BATCH_SIZE, RANDOM_SEED)\n",
    "#Create agents\n",
    "agents = []\n",
    "for n in range(num_agents):\n",
    "    agents.append(ddpg_agent.Agent(state_size, action_size, RANDOM_SEED))\n",
    "    agents[n].reset()                                  # reset the agent noise function to mu\n",
    "                                 \n",
    "t = 0                                                  # initialize number of timesteps\n",
    "while True:\n",
    "    # select an action (for each agent)\n",
    "    actions = np.array([agents[n].act(states[n]) for n in range(num_agents)])                        \n",
    "    actions = np.clip(actions, -1, 1)                  # all actions between -1 and 1\n",
    "    env_info = env.step(actions)[brain_name]           # send all actions to the environment\n",
    "    next_states = env_info.vector_observations         # get next state (for each agent)\n",
    "    rewards = env_info.rewards                         # get reward (for each agent)\n",
    "    dones = env_info.local_done                        # see if episode finished\n",
    "    # Save the experience and learn\n",
    "    for n in range(num_agents):\n",
    "        agents[n].step(states[n], actions[n], rewards[n], next_states[n], dones[n], memory)    \n",
    "    scores += env_info.rewards                         # update the score (for each agent)\n",
    "    states = next_states                               # roll over states to next time step\n",
    "    t+=1                                               # update number of time steps\n",
    "    print('\\rTime Steps: {}'.format(t), end=\"\")\n",
    "    if np.any(dones):                                  # exit loop if episode finished\n",
    "        break\n",
    "print('\\nTotal score (averaged over agents) this episode: {}'.format(np.mean(scores)))"
   ]
  },
  {
   "cell_type": "markdown",
   "metadata": {},
   "source": [
    "When finished, you can close the environment."
   ]
  },
  {
   "cell_type": "code",
   "execution_count": 8,
   "metadata": {},
   "outputs": [],
   "source": [
    "#env.close()"
   ]
  },
  {
   "cell_type": "markdown",
   "metadata": {},
   "source": [
    "### 4. It's Your Turn!\n",
    "\n",
    "Now it's your turn to train your own agent to solve the environment!  A few **important notes**:\n",
    "- When training the environment, set `train_mode=True`, so that the line for resetting the environment looks like the following:\n",
    "```python\n",
    "env_info = env.reset(train_mode=True)[brain_name]\n",
    "```\n",
    "- To structure your work, you're welcome to work directly in this Jupyter notebook, or you might like to start over with a new file!  You can see the list of files in the workspace by clicking on **_Jupyter_** in the top left corner of the notebook.\n",
    "- In this coding environment, you will not be able to watch the agents while they are training.  However, **_after training the agents_**, you can download the saved model weights to watch the agents on your own machine! "
   ]
  },
  {
   "cell_type": "markdown",
   "metadata": {},
   "source": [
    "### 5. Train the Agent with DDPG  "
   ]
  },
  {
   "cell_type": "code",
   "execution_count": 9,
   "metadata": {},
   "outputs": [],
   "source": [
    "# Modified from Navigation\n",
    "\n",
    "def ddpg(n_episodes=175, max_t=1100, scores_window_len=100, goal_score = 30, \n",
    "         print_every = 10, save_every=10, resume_training=False):\n",
    "    \"\"\"Deep Q-Learning.\n",
    "    Params\n",
    "    ======\n",
    "        n_episodes (int): maximum number of training episodes\n",
    "        max_t (int): maximum number of timesteps per episode\n",
    "        eps_start (float): starting value of epsilon, for epsilon-greedy action selection\n",
    "        eps_end (float): minimum value of epsilon\n",
    "        eps_decay (float): multiplicative factor (per episode) for decreasing epsilon\n",
    "        scores_window_len: a rolling window size for averaging the scores\n",
    "        goal_score: the minimum average score required for a satisfactory model\n",
    "        save_every: how often the models are saved\n",
    "        resume_training: whether or not to load a previous model from a checkpoint\n",
    "    \"\"\"\n",
    "    agents = []                                              # create agents\n",
    "    for n in range(num_agents):\n",
    "        agents.append(ddpg_agent.Agent(state_size, action_size, RANDOM_SEED))\n",
    "    \n",
    "    scores_per_episode = []                                  # List containing agent scores from each episode\n",
    "    scores_window = deque(maxlen=scores_window_len)          # last however many scores\n",
    "    \n",
    "    # create a shared ReplayBuffer\n",
    "    memory = ddpg_agent.ReplayBuffer(action_size, ddpg_agent.BUFFER_SIZE, \n",
    "                            ddpg_agent.BATCH_SIZE, RANDOM_SEED)\n",
    "    \n",
    "    # Load a checkpoint\n",
    "    if resume_training:\n",
    "        agents, scores_per_episode, scores_window, memory = load_checkpoint(agents, scores_per_episode,\n",
    "                                                                            scores_window, memory)  \n",
    "    \n",
    "    for i_episode in range(len(scores_per_episode)+1, n_episodes+1):\n",
    "        env_info = env.reset(train_mode=True)[brain_name]    # reset the environment\n",
    "        states = env_info.vector_observations                # get the current states\n",
    "        scores = np.zeros(num_agents)                        # initialize the score (for each agent)\n",
    "        for agent in agents:\n",
    "            agent.reset()                                    # reset internal noise state to mu\n",
    "        for t in range(1, max_t+1):          \n",
    "            actions = np.array([agents[n].act(states[n])     # agents act\n",
    "                                for n in range(num_agents)])\n",
    "            env_info = env.step(actions)[brain_name]         # step the environment\n",
    "            next_states = env_info.vector_observations       # observe next state\n",
    "            rewards = env_info.rewards                       # observe rewards\n",
    "            dones = env_info.local_done                      # observe dones             \n",
    "            for n in range(num_agents):                      # save the experience and learn\n",
    "                agents[n].step(states[n], actions[n], rewards[n], next_states[n], dones[n], memory)\n",
    "            states = next_states                             # roll over states to next time step\n",
    "            scores += rewards                                # update the score (for each agent)\n",
    "                                                             # display time steps and mean of all agent scores\n",
    "            print('\\rEpisode {}\\tScore: {:.2f}\\tTime Step {}\\tSize of memory: {}'\n",
    "                  .format(i_episode, np.mean(scores), t, len(memory)), end=\" \"*5)\n",
    "            if np.any(dones):                                # exit loop if episode finished\n",
    "                break    \n",
    "\n",
    "        scores_window.append(scores)                         # save most recent scores\n",
    "        scores_per_episode.append(scores)                    # save most recent scores        \n",
    "        if i_episode % print_every == 0:                     # output average of scores_windows\n",
    "            print('\\rEpisode {}\\tAverage Score: {:.2f}'.format(i_episode, np.mean(scores_per_episode[-print_every:])), \n",
    "                  end=\" \"*35+\"\\n\")    \n",
    "        if np.mean(scores_window)>=goal_score:               # proclaim the evironment solved, save checkpoints \n",
    "            print('\\nEnvironment solved in {:d} episodes!\\tAverage Score: {:.2f}'\n",
    "                  .format(i_episode-scores_window_len, np.mean(scores_window)))\n",
    "            save_checkpoint(agents, scores_per_episode, memory, ddpg_agent, 'checkpoint.tar')\n",
    "            break\n",
    "        if i_episode % save_every ==0:                        # save the models\n",
    "            save_checkpoint(agents, scores_per_episode, memory, ddpg_agent, 'checkpoint.tar')\n",
    "    return scores_per_episode"
   ]
  },
  {
   "cell_type": "code",
   "execution_count": 10,
   "metadata": {},
   "outputs": [],
   "source": [
    "def run_agent(n_episodes=175, max_t=1001, scores_window_len=100, goal_score = 30, \n",
    "              print_every=10, save_every=10,\n",
    "              resume_training=False, plot=False, title='Scores'):\n",
    "    \"\"\" Runs an agent over episodes and returns the scores from each episode  \n",
    "        Attempts to make hyperparameter tuning easier\n",
    "        Updates for the changes in the dqn_agent.py file \n",
    "        scores_window_len: a rolling window size for averaging the scores\n",
    "        goal_score: the minimum average score required for a satisfactory model\n",
    "        verbose: 0-No output, 1-Score and Time Elapsed, 2-Score, Time Elapsed and Hyperparameter\n",
    "        plot: whether or not to plot the scores\n",
    "        title: plot title\n",
    "    \"\"\"\n",
    "    \n",
    "    # reload library after modifying Hyperparameters\n",
    "    importlib.reload(ddpg_agent)\n",
    "\n",
    "    # Generate Scores\n",
    "    tic = time.time()\n",
    "    print_hyperparameters(ddpg_agent)       \n",
    "    scores = ddpg(n_episodes, max_t, scores_window_len, goal_score, print_every, save_every, resume_training)\n",
    "    toc = time.time()\n",
    "    print(\"\\nTime elapsed: {:.0f} seconds\".format(toc-tic))\n",
    "\n",
    "    # Plot Scores\n",
    "    if plot == True:\n",
    "        plot_scores(scores, rolling_window=scores_window_len, title=title)\n",
    "\n",
    "    return scores"
   ]
  },
  {
   "cell_type": "code",
   "execution_count": 12,
   "metadata": {},
   "outputs": [],
   "source": [
    "def save_checkpoint(agent, scores_per_episode, memory, module, path='checkpoint.tar'):\n",
    "    checkpoint_dict = {'scores_per_episode': scores_per_episode, \n",
    "                       'memory': memory,\n",
    "                       'hyperparameters': get_hyperparameters(module)\n",
    "                      }\n",
    "    for n in range(num_agents):\n",
    "        checkpoint_dict['actor_local_dict_'+str(n)] = agent[n].actor_local.state_dict()\n",
    "        checkpoint_dict['actor_target_dict_'+str(n)] = agent[n].actor_target.state_dict()\n",
    "        checkpoint_dict['critic_local_dict_'+str(n)] = agent[n].critic_local.state_dict()\n",
    "        checkpoint_dict['critic_target_dict_'+str(n)] = agent[n].critic_target.state_dict()\n",
    "        checkpoint_dict['actor_optimizer_dict_'+str(n)] = agent[n].actor_optimizer.state_dict()\n",
    "        checkpoint_dict['crtic_optimizer_dict_'+str(n)] = agent[n].critic_optimizer.state_dict()\n",
    "       \n",
    "    torch.save(checkpoint_dict, path)\n",
    "\n",
    "def load_checkpoint(agents, scores_per_episode, scores_window, memory, path='checkpoint.tar'):\n",
    "    checkpoint = torch.load(path)\n",
    "    scores_per_episode = checkpoint['scores_per_episode']\n",
    "    for score in scores_per_episode:\n",
    "        scores_window.append(score)\n",
    "    memory = checkpoint['memory']\n",
    "    for n in range(num_agents):\n",
    "        agents[n].actor_local.load_state_dict(checkpoint['actor_local_dict_'+str(n)])\n",
    "        agents[n].actor_target.load_state_dict(checkpoint['actor_target_dict_'+str(n)])\n",
    "        agents[n].critic_local.load_state_dict(checkpoint['critic_local_dict_'+str(n)])\n",
    "        agents[n].critic_target.load_state_dict(checkpoint['critic_target_dict_'+str(n)])\n",
    "        agents[n].actor_optimizer.load_state_dict(checkpoint['actor_optimizer_dict_'+str(n)])\n",
    "        agents[n].critic_optimizer.load_state_dict(checkpoint['crtic_optimizer_dict_'+str(n)])\n",
    "    return agents, scores_per_episode, scores_window, memory"
   ]
  },
  {
   "cell_type": "code",
   "execution_count": 13,
   "metadata": {},
   "outputs": [
    {
     "name": "stdout",
     "output_type": "stream",
     "text": [
      "BUFFER_SIZE = 1000000\n",
      "BATCH_SIZE = 128\n",
      "GAMMA = 0.99\n",
      "TAU = 0.001\n",
      "LR_ACTOR = 0.0003\n",
      "LR_CRITIC = 0.001\n",
      "WEIGHT_DECAY = 0.0\n",
      "UPDATE_EVERY = 4\n",
      "N_UPDATES = 1\n",
      "FC1_UNITS_ACTOR = 256\n",
      "FC2_UNITS_ACTOR = 128\n",
      "FCS1_UNITS_CRITIC = 256\n",
      "FC2_UNITS_CRITIC = 128\n",
      "Episode 5\tScore: 0.00\tTime Step 1001\tSize of memory: 5005     \n",
      "Time elapsed: 29 seconds\n"
     ]
    },
    {
     "data": {
      "image/png": "[encoded data removed]",
      "text/plain": [
       "<matplotlib.figure.Figure at 0x7f57b9c43438>"
      ]
     },
     "metadata": {
      "needs_background": "light"
     },
     "output_type": "display_data"
    }
   ],
   "source": [
    "scores = run_agent(n_episodes=5, max_t=1500, scores_window_len=100, goal_score = 30, \n",
    "                   print_every=10, save_every=1,\n",
    "                   resume_training=False, plot=True, title='learn every step')"
   ]
  },
  {
   "cell_type": "markdown",
   "metadata": {},
   "source": [
    "When finished, you may close the environment"
   ]
  },
  {
   "cell_type": "code",
   "execution_count": null,
   "metadata": {},
   "outputs": [],
   "source": [
    "# env.close()\n",
    "# env = UnityEnvironment(file_name='/data/Reacher_One_Linux_NoVis/Reacher_One_Linux_NoVis.x86_64', seed=RANDOM_SEED)\n"
   ]
  }
 ],
 "metadata": {
  "kernelspec": {
   "display_name": "Python 3",
   "language": "python",
   "name": "python3"
  },
  "language_info": {
   "codemirror_mode": {
    "name": "ipython",
    "version": 3
   },
   "file_extension": ".py",
   "mimetype": "text/x-python",
   "name": "python",
   "nbconvert_exporter": "python",
   "pygments_lexer": "ipython3",
   "version": "3.6.3"
  }
 },
 "nbformat": 4,
 "nbformat_minor": 2
}
