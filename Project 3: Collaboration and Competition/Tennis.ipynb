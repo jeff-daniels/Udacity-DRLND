{
 "cells": [
  {
   "cell_type": "markdown",
   "metadata": {},
   "source": [
    "# Collaboration and Competition\n",
    "\n",
    "---\n",
    "\n",
    "You are welcome to use this coding environment to train your agent for the project.  Follow the instructions below to get started!\n",
    "\n",
    "### 1. Start the Environment\n",
    "\n",
    "Run the next code cell to install a few packages.  This line will take a few minutes to run!"
   ]
  },
  {
   "cell_type": "code",
   "execution_count": 1,
   "metadata": {},
   "outputs": [
    {
     "name": "stdout",
     "output_type": "stream",
     "text": [
      "\u001b[31mtensorflow 1.7.1 has requirement numpy>=1.13.3, but you'll have numpy 1.12.1 which is incompatible.\u001b[0m\r\n",
      "\u001b[31mipython 6.5.0 has requirement prompt-toolkit<2.0.0,>=1.0.15, but you'll have prompt-toolkit 3.0.5 which is incompatible.\u001b[0m\r\n"
     ]
    }
   ],
   "source": [
    "!pip -q install ./python"
   ]
  },
  {
   "cell_type": "markdown",
   "metadata": {},
   "source": [
    "The environment is already saved in the Workspace and can be accessed at the file path provided below. "
   ]
  },
  {
   "cell_type": "code",
   "execution_count": 2,
   "metadata": {},
   "outputs": [
    {
     "name": "stderr",
     "output_type": "stream",
     "text": [
      "INFO:unityagents:\n",
      "'Academy' started successfully!\n",
      "Unity Academy name: Academy\n",
      "        Number of Brains: 1\n",
      "        Number of External Brains : 1\n",
      "        Lesson number : 0\n",
      "        Reset Parameters :\n",
      "\t\t\n",
      "Unity brain name: TennisBrain\n",
      "        Number of Visual Observations (per agent): 0\n",
      "        Vector Observation space type: continuous\n",
      "        Vector Observation space size (per agent): 8\n",
      "        Number of stacked Vector Observation: 3\n",
      "        Vector Action space type: continuous\n",
      "        Vector Action space size (per agent): 2\n",
      "        Vector Action descriptions: , \n"
     ]
    }
   ],
   "source": [
    "from unityagents import UnityEnvironment\n",
    "import pandas as pd\n",
    "import random\n",
    "import importlib\n",
    "import time\n",
    "import torch\n",
    "from collections import deque\n",
    "import matplotlib.pyplot as plt\n",
    "%matplotlib inline\n",
    "\n",
    "from config import Config\n",
    "from normalizer import MeanStdNormalizer\n",
    "from ppo_agent import PPOAgent\n",
    "from network import GaussianActorCriticNet, FCBody\n",
    "\n",
    "\n",
    "from helper import *\n",
    "RANDOM_SEED = 42\n",
    "\n",
    "env = UnityEnvironment(file_name=\"/data/Tennis_Linux_NoVis/Tennis\")"
   ]
  },
  {
   "cell_type": "markdown",
   "metadata": {},
   "source": [
    "Environments contain **_brains_** which are responsible for deciding the actions of their associated agents. Here we check for the first brain available, and set it as the default brain we will be controlling from Python."
   ]
  },
  {
   "cell_type": "code",
   "execution_count": 3,
   "metadata": {},
   "outputs": [],
   "source": [
    "# get the default brain\n",
    "brain_name = env.brain_names[0]\n",
    "brain = env.brains[brain_name]"
   ]
  },
  {
   "cell_type": "markdown",
   "metadata": {},
   "source": [
    "### 2. Examine the State and Action Spaces\n",
    "\n",
    "Run the code cell below to print some information about the environment."
   ]
  },
  {
   "cell_type": "code",
   "execution_count": 4,
   "metadata": {},
   "outputs": [
    {
     "name": "stdout",
     "output_type": "stream",
     "text": [
      "Number of agents: 2\n",
      "Size of each action: 2\n",
      "There are 2 agents. Each observes a state with length: 24\n",
      "The state for the first agent looks like: [ 0.          0.          0.          0.          0.          0.          0.\n",
      "  0.          0.          0.          0.          0.          0.          0.\n",
      "  0.          0.         -6.65278625 -1.5        -0.          0.\n",
      "  6.83172083  6.         -0.          0.        ]\n"
     ]
    }
   ],
   "source": [
    "# reset the environment\n",
    "env_info = env.reset(train_mode=True)[brain_name]\n",
    "\n",
    "# number of agents \n",
    "num_agents = len(env_info.agents)\n",
    "print('Number of agents:', num_agents)\n",
    "\n",
    "# size of each action\n",
    "action_size = brain.vector_action_space_size\n",
    "print('Size of each action:', action_size)\n",
    "\n",
    "# examine the state space \n",
    "states = env_info.vector_observations\n",
    "state_size = states.shape[1]\n",
    "print('There are {} agents. Each observes a state with length: {}'.format(states.shape[0], state_size))\n",
    "print('The state for the first agent looks like:', states[0])"
   ]
  },
  {
   "cell_type": "markdown",
   "metadata": {},
   "source": [
    "### 3. Take Random Actions in the Environment\n",
    "\n",
    "In the next code cell, you will learn how to use the Python API to control the agent and receive feedback from the environment.\n",
    "\n",
    "Note that **in this coding environment, you will not be able to watch the agents while they are training**, and you should set `train_mode=True` to restart the environment."
   ]
  },
  {
   "cell_type": "code",
   "execution_count": 5,
   "metadata": {},
   "outputs": [
    {
     "name": "stdout",
     "output_type": "stream",
     "text": [
      "Total score (averaged over agents) this episode: -0.004999999888241291\n",
      "Total score (averaged over agents) this episode: 0.04500000085681677\n",
      "Total score (averaged over agents) this episode: -0.004999999888241291\n",
      "Total score (averaged over agents) this episode: -0.004999999888241291\n",
      "Total score (averaged over agents) this episode: -0.004999999888241291\n"
     ]
    }
   ],
   "source": [
    "for i in range(5):                                         # play game for 5 episodes\n",
    "    env_info = env.reset(train_mode=False)[brain_name]     # reset the environment    \n",
    "    states = env_info.vector_observations                  # get the current state (for each agent)\n",
    "    scores = np.zeros(num_agents)                          # initialize the score (for each agent)\n",
    "    while True:\n",
    "        actions = np.random.randn(num_agents, action_size) # select an action (for each agent)\n",
    "        actions = np.clip(actions, -1, 1)                  # all actions between -1 and 1\n",
    "        env_info = env.step(actions)[brain_name]           # send all actions to the environment\n",
    "        next_states = env_info.vector_observations         # get next state (for each agent)\n",
    "        rewards = env_info.rewards                         # get reward (for each agent)\n",
    "        dones = env_info.local_done                        # see if episode finished\n",
    "        scores += env_info.rewards                         # update the score (for each agent)\n",
    "        states = next_states                               # roll over states to next time step\n",
    "        if np.any(dones):                                  # exit loop if episode finished\n",
    "            break\n",
    "    print('Total score (averaged over agents) this episode: {}'.format(np.mean(scores)))"
   ]
  },
  {
   "cell_type": "markdown",
   "metadata": {},
   "source": [
    "When finished, you can close the environment."
   ]
  },
  {
   "cell_type": "code",
   "execution_count": 6,
   "metadata": {},
   "outputs": [],
   "source": [
    "# env.close()"
   ]
  },
  {
   "cell_type": "markdown",
   "metadata": {},
   "source": [
    "### Agent"
   ]
  },
  {
   "cell_type": "markdown",
   "metadata": {},
   "source": [
    "### ppo_agent.py"
   ]
  },
  {
   "cell_type": "code",
   "execution_count": 113,
   "metadata": {},
   "outputs": [],
   "source": [
    "#######################################################################\n",
    "# Copyright (C) 2017 Shangtong Zhang(zhangshangtong.cpp@gmail.com)    #\n",
    "# Permission given to modify the code as long as you keep this        #\n",
    "# declaration at the top                                              #\n",
    "#######################################################################\n",
    "\n",
    "# Modified by Jeff Daniels (jeffrey.arthur.daniels@gmail.com) 2020\n",
    "# For Udacity Deep Reinforcement Learning Nanodegree\n",
    "\n",
    "import numpy as np\n",
    "import torch\n",
    "from replay import Storage\n",
    "from torch_utils import to_np, tensor\n",
    "from misc_utils import random_sample \n",
    "\n",
    "class PPOAgent():\n",
    "    def __init__(self, config):\n",
    "        self.config = config\n",
    "        self.environment = config.environment\n",
    "        self.brain_name = config.brain_name\n",
    "        self.network = config.network_fn()\n",
    "        self.actor_opt = config.actor_opt_fn(self.network.actor_params)\n",
    "        self.critic_opt = config.critic_opt_fn(self.network.critic_params)\n",
    "        self.total_steps = 0\n",
    "        self.states = self.environment.reset(train_mode=True)[self.brain_name].vector_observations\n",
    "        self.states = config.state_normalizer(self.states)\n",
    "        self.storage = Storage(config.rollout_length)\n",
    "        self.dones = []\n",
    "        self.rewards = 0\n",
    "\n",
    "\n",
    "    def step(self):\n",
    "\n",
    "        prediction = self.network(self.states)\n",
    "        environment_info = self.environment.step(to_np(prediction['a']))[self.brain_name]\n",
    "        next_states = environment_info.vector_observations \n",
    "        self.rewards = environment_info.rewards\n",
    "        self.dones = environment_info.local_done\n",
    "        rewards = self.config.reward_normalizer(self.rewards)\n",
    "        next_states = self.config.state_normalizer(next_states)\n",
    "        self.storage.add(prediction)\n",
    "        self.storage.add({'r': tensor(rewards).unsqueeze(-1),\n",
    "                          'm': tensor(dones).unsqueeze(-1),\n",
    "                          's': tensor(states)})\n",
    "        self.states = next_states\n",
    "        self.total_steps += self.config.num_workers\n",
    "\n",
    "\n",
    "    def learn(self):\n",
    "        #--------------LEARNING------------------------#\n",
    "        config = self.config\n",
    "        storage = self.storage\n",
    "        states = self.states\n",
    "        \n",
    "        prediction = self.network(states)\n",
    "        storage.add(prediction)\n",
    "        storage.placeholder()\n",
    "        \n",
    "        advantages = tensor(np.zeros((config.num_workers, 1)))\n",
    "        returns = prediction['v'].detach()\n",
    "        for i in reversed(range(config.rollout_length)):\n",
    "            returns = storage.r[i] + config.discount * storage.m[i] * returns\n",
    "            if not config.use_gae:\n",
    "                advantages = returns - storage.v[i].detach()\n",
    "            else:\n",
    "                td_error = storage.r[i] + config.discount * storage.m[i] * storage.v[i + 1] - storage.v[i]\n",
    "                advantages = advantages * config.gae_tau * config.discount * storage.m[i] + td_error\n",
    "            storage.adv[i] = advantages.detach()\n",
    "            storage.ret[i] = returns.detach()\n",
    "\n",
    "        states, actions, log_probs_old, returns, advantages = storage.cat(['s', 'a', 'log_pi_a', 'ret', 'adv'])\n",
    "        actions = actions.detach()\n",
    "        log_probs_old = log_probs_old.detach()\n",
    "        advantages = (advantages - advantages.mean()) / advantages.std()\n",
    "\n",
    "        for _ in range(config.optimization_epochs):\n",
    "            sampler = random_sample(np.arange(states.size(0)), config.mini_batch_size)\n",
    "            for batch_indices in sampler:\n",
    "                batch_indices = tensor(batch_indices).long()\n",
    "                sampled_states = states[batch_indices]\n",
    "                sampled_actions = actions[batch_indices]\n",
    "                sampled_log_probs_old = log_probs_old[batch_indices]\n",
    "                sampled_returns = returns[batch_indices]\n",
    "                sampled_advantages = advantages[batch_indices]\n",
    "\n",
    "                prediction = self.network(sampled_states, sampled_actions)\n",
    "                ratio = (prediction['log_pi_a'] - sampled_log_probs_old).exp()\n",
    "                obj = ratio * sampled_advantages\n",
    "                obj_clipped = ratio.clamp(1.0 - self.config.ppo_ratio_clip,\n",
    "                                          1.0 + self.config.ppo_ratio_clip) * sampled_advantages\n",
    "                policy_loss = -torch.min(obj, obj_clipped).mean() - config.entropy_weight * prediction['ent'].mean()\n",
    "\n",
    "                value_loss = 0.5 * (sampled_returns - prediction['v']).pow(2).mean()\n",
    "\n",
    "                approx_kl = (sampled_log_probs_old - prediction['log_pi_a']).mean()\n",
    "                if approx_kl <= 1.5 * config.target_kl:\n",
    "                    self.actor_opt.zero_grad()\n",
    "                    policy_loss.backward()\n",
    "                    self.actor_opt.step()\n",
    "\n",
    "                self.critic_opt.zero_grad()\n",
    "                value_loss.backward()\n",
    "                self.critic_opt.step()\n"
   ]
  },
  {
   "cell_type": "markdown",
   "metadata": {},
   "source": [
    "### run_steps"
   ]
  },
  {
   "cell_type": "code",
   "execution_count": 86,
   "metadata": {},
   "outputs": [],
   "source": [
    "#         for _ in range(config.rollout_length):\n",
    "#             # step agent and environment\n",
    "\n",
    "def run_steps(agent, scores_window_len=10, print_every=10):\n",
    "    config = agent.config\n",
    "    agent_name = agent.__class__.__name__\n",
    "    t0 = time.time()\n",
    "\n",
    "    scores_per_episode = []                                  # List containing agent scores from each episode\n",
    "    scores_window = deque(maxlen=config.scores_window_len)   # last however many scores\n",
    "\n",
    "    for episode in range(1, config.max_episodes+1):\n",
    "        env_info = config.environment.reset(train_mode=True)[brain_name]    # reset the environment\n",
    "        states = env_info.vector_observations                # get the current states\n",
    "        agent.states = agent.config.state_normalizer(states) # set agent states to normalized states\n",
    "        scores = np.zeros(config.num_agents)                 # initialize the score (for each agent)\n",
    "        for t in range(1, config.max_steps+1):   \n",
    "            agent.step()\n",
    "            scores += agent.rewards                          # update the score (for each agent)\n",
    "                                                             # display time steps and mean of all agent scores\n",
    "            print('\\rEpisode {}\\tScore: {:.2f}\\tTime Step {}'\n",
    "                  .format(episode, np.mean(scores), t), end=\" \"*5)                 \n",
    "            if np.any(agent.dones):                          # exit loop if episode finished\n",
    "                break   \n",
    "        if agent.total_steps % config.rollout_length == 0:   # Learn \n",
    "            agent.learn()\n",
    "        scores_window.append(scores)                         # save most recent scores\n",
    "        scores_per_episode.append(scores)                    # save most recent scores\n",
    "        if episode % config.print_every == 0:                # output average of scores in print_every interval\n",
    "            print('\\rEpisode {}\\tAverage Score: {:.2f}'\n",
    "                  .format(episode, np.mean(scores_per_episode[-config.print_every:])), end=\" \"*35+\"\\n\") "
   ]
  },
  {
   "cell_type": "markdown",
   "metadata": {},
   "source": [
    "### PPO Example"
   ]
  },
  {
   "cell_type": "code",
   "execution_count": 119,
   "metadata": {},
   "outputs": [],
   "source": [
    "def ppo_continuous(**kwargs):\n",
    "    kwargs.setdefault('log_level', 0)\n",
    "    config = Config()\n",
    "    config.merge(kwargs)\n",
    "\n",
    "    # TODO: Delete line below\n",
    "    # config.task_fn = lambda: Task(config.game)\n",
    "    config.environment = env\n",
    "    config.brain_name = brain_name\n",
    "    config.state_dim = state_size\n",
    "    config.action_dim = action_size\n",
    "    config.num_agents = num_agents\n",
    "\n",
    "    config.network_fn = lambda: GaussianActorCriticNet(\n",
    "        config.state_dim, config.action_dim, actor_body=FCBody(config.state_dim, gate=torch.tanh),\n",
    "        critic_body=FCBody(config.state_dim, gate=torch.tanh))\n",
    "    config.actor_opt_fn = lambda params: torch.optim.Adam(params, 3e-4)\n",
    "    config.critic_opt_fn = lambda params: torch.optim.Adam(params, 1e-3)\n",
    "    config.discount = 0.99\n",
    "    config.use_gae = False\n",
    "    config.gae_tau = 0.95\n",
    "    config.gradient_clip = 0.5\n",
    "    config.max_episodes = 4000\n",
    "    config.rollout_length = 2048\n",
    "    config.optimization_epochs = 10\n",
    "    config.mini_batch_size = 32\n",
    "    config.ppo_ratio_clip = 0.2\n",
    "    config.log_interval = 2048\n",
    "    config.max_steps = int(1e4)\n",
    "    config.target_kl = 0.01\n",
    "    config.state_normalizer = MeanStdNormalizer()\n",
    "    config.print_every = 100\n",
    "    config.scores_window_len = 100\n",
    "    ppo_agent = PPOAgent(config)\n",
    "    run_steps(ppo_agent)\n",
    "    return ppo_agent\n"
   ]
  },
  {
   "cell_type": "markdown",
   "metadata": {},
   "source": [
    "### Simply train"
   ]
  },
  {
   "cell_type": "code",
   "execution_count": 120,
   "metadata": {},
   "outputs": [
    {
     "name": "stdout",
     "output_type": "stream",
     "text": [
      "Episode 100\tAverage Score: 0.01                                            \n",
      "Episode 200\tAverage Score: 0.01                                    \n",
      "Episode 300\tAverage Score: 0.01                                   \n",
      "Episode 400\tAverage Score: 0.00                                         \n",
      "Episode 500\tAverage Score: 0.00                                   \n",
      "Episode 600\tAverage Score: 0.01                                         \n",
      "Episode 700\tAverage Score: 0.01                                   \n",
      "Episode 800\tAverage Score: 0.01                                                        \n",
      "Episode 900\tAverage Score: 0.00                                    \n",
      "Episode 1000\tAverage Score: 0.01                                                 \n",
      "Episode 1100\tAverage Score: 0.00                                              \n",
      "Episode 1200\tAverage Score: 0.01                                         \n",
      "Episode 1300\tAverage Score: 0.01                                                   \n",
      "Episode 1400\tAverage Score: 0.01                                              \n",
      "Episode 1500\tAverage Score: 0.01                                   \n",
      "Episode 1600\tAverage Score: 0.01                                   \n",
      "Episode 1700\tAverage Score: 0.00                                              \n",
      "Episode 1800\tAverage Score: 0.01                                                       \n",
      "Episode 1900\tAverage Score: 0.01                                   \n",
      "Episode 2000\tAverage Score: -0.00                                   \n",
      "Episode 2100\tAverage Score: 0.01                                         \n",
      "Episode 2200\tAverage Score: 0.01                                   \n",
      "Episode 2300\tAverage Score: 0.01                                    \n",
      "Episode 2400\tAverage Score: 0.01                                         \n",
      "Episode 2500\tAverage Score: 0.01                                              \n",
      "Episode 2600\tAverage Score: 0.00                                              \n",
      "Episode 2700\tAverage Score: 0.01                                   \n",
      "Episode 2800\tAverage Score: 0.00                                   \n",
      "Episode 2900\tAverage Score: 0.01                                              \n",
      "Episode 3000\tAverage Score: 0.01                                   \n",
      "Episode 3100\tAverage Score: 0.01                                              \n",
      "Episode 3200\tAverage Score: 0.00                                   \n",
      "Episode 3300\tAverage Score: 0.00                                        \n",
      "Episode 3400\tAverage Score: 0.01                                   \n",
      "Episode 3500\tAverage Score: 0.01                                   \n",
      "Episode 3600\tAverage Score: 0.01                                   \n",
      "Episode 3700\tAverage Score: 0.00                                   \n",
      "Episode 3800\tAverage Score: 0.00                                   \n",
      "Episode 3900\tAverage Score: 0.01                                    \n",
      "Episode 4000\tAverage Score: 0.00                                   \n"
     ]
    }
   ],
   "source": [
    "agent = ppo_continuous()"
   ]
  },
  {
   "cell_type": "code",
   "execution_count": 96,
   "metadata": {},
   "outputs": [
    {
     "ename": "IndexError",
     "evalue": "list index out of range",
     "output_type": "error",
     "traceback": [
      "\u001b[0;31m---------------------------------------------------------------------------\u001b[0m",
      "\u001b[0;31mIndexError\u001b[0m                                Traceback (most recent call last)",
      "\u001b[0;32m<ipython-input-96-542af27e45a5>\u001b[0m in \u001b[0;36m<module>\u001b[0;34m()\u001b[0m\n\u001b[0;32m----> 1\u001b[0;31m \u001b[0magent\u001b[0m\u001b[0;34m.\u001b[0m\u001b[0mstorage\u001b[0m\u001b[0;34m.\u001b[0m\u001b[0mm\u001b[0m\u001b[0;34m[\u001b[0m\u001b[0mi\u001b[0m\u001b[0;34m]\u001b[0m\u001b[0;34m\u001b[0m\u001b[0m\n\u001b[0m",
      "\u001b[0;31mIndexError\u001b[0m: list index out of range"
     ]
    }
   ],
   "source": [
    "agent.storage.m[i]"
   ]
  },
  {
   "cell_type": "markdown",
   "metadata": {},
   "source": [
    "## `RUN ALL ABOVE`"
   ]
  },
  {
   "cell_type": "code",
   "execution_count": 9,
   "metadata": {},
   "outputs": [
    {
     "ename": "NameError",
     "evalue": "name 'PPO_agent' is not defined",
     "output_type": "error",
     "traceback": [
      "\u001b[0;31m---------------------------------------------------------------------------\u001b[0m",
      "\u001b[0;31mNameError\u001b[0m                                 Traceback (most recent call last)",
      "\u001b[0;32m<ipython-input-9-1f5b5135dab3>\u001b[0m in \u001b[0;36m<module>\u001b[0;34m()\u001b[0m\n\u001b[1;32m      4\u001b[0m \u001b[0;34m\u001b[0m\u001b[0m\n\u001b[1;32m      5\u001b[0m \u001b[0;31m#Create agents\u001b[0m\u001b[0;34m\u001b[0m\u001b[0;34m\u001b[0m\u001b[0m\n\u001b[0;32m----> 6\u001b[0;31m \u001b[0magents\u001b[0m \u001b[0;34m=\u001b[0m \u001b[0mPPO_agent\u001b[0m\u001b[0;34m(\u001b[0m\u001b[0;34m)\u001b[0m\u001b[0;34m\u001b[0m\u001b[0m\n\u001b[0m\u001b[1;32m      7\u001b[0m \u001b[0;31m# agents = ddpg_agent.Agent(state_size, action_size, num_agents, RANDOM_SEED)\u001b[0m\u001b[0;34m\u001b[0m\u001b[0;34m\u001b[0m\u001b[0m\n\u001b[1;32m      8\u001b[0m \u001b[0;31m# agents.reset()                                             # reset the agent noise function to mu\u001b[0m\u001b[0;34m\u001b[0m\u001b[0;34m\u001b[0m\u001b[0m\n",
      "\u001b[0;31mNameError\u001b[0m: name 'PPO_agent' is not defined"
     ]
    }
   ],
   "source": [
    "\"\"\"\n",
    "Simply train\n",
    "\"\"\"\n",
    "\n",
    "#Create agents\n",
    "agents = PPOAgent()\n",
    "# agents = ddpg_agent.Agent(state_size, action_size, num_agents, RANDOM_SEED)\n",
    "# agents.reset()                                             # reset the agent noise function to mu\n",
    "\n",
    "\n",
    "for i in range(5):                                         # play game for 5 episodes\n",
    "    env_info = env.reset(train_mode=False)[brain_name]     # reset the environment    \n",
    "    states = env_info.vector_observations                  # get the current state (for each agent)\n",
    "    scores = np.zeros(num_agents)                          # initialize the score (for each agent)                                 \n",
    "    t = 0                                                  # initialize number of timesteps\n",
    "    while True:\n",
    "        # select an action (for each agent)\n",
    "        actions = agents.act(states)               \n",
    "        actions = np.clip(actions, -1, 1)                  # all actions between -1 and 1\n",
    "        env_info = env.step(actions)[brain_name]           # send all actions to the environment\n",
    "        next_states = env_info.vector_observations         # get next state (for each agent)\n",
    "        rewards = env_info.rewards                         # get reward (for each agent)\n",
    "        dones = env_info.local_done                        # see if episode finished\n",
    "        # Save the experience and learn\n",
    "        agents.step(states, actions, rewards, next_states, dones)    \n",
    "        scores += env_info.rewards                         # update the score (for each agent)\n",
    "        states = next_states                               # roll over states to next time step\n",
    "        t+=1                                               # update number of time steps\n",
    "#         print('\\rTime Steps: {}'.format(t), end=\"\")      \n",
    "        if np.any(dones):                                  # exit loop if episode finished\n",
    "            break\n",
    "    print('\\nTotal score (averaged over agents) episode {}: {}'.format(np.mean(scores)))\n",
    "    print('Average score: {}\\tLength in time steps: {}'.format(np.mean(scores), t))\n",
    "    "
   ]
  },
  {
   "cell_type": "markdown",
   "metadata": {},
   "source": [
    "### 4. It's Your Turn!\n",
    "\n",
    "Now it's your turn to train your own agent to solve the environment!  A few **important notes**:\n",
    "- When training the environment, set `train_mode=True`, so that the line for resetting the environment looks like the following:\n",
    "```python\n",
    "env_info = env.reset(train_mode=True)[brain_name]\n",
    "```\n",
    "- To structure your work, you're welcome to work directly in this Jupyter notebook, or you might like to start over with a new file!  You can see the list of files in the workspace by clicking on **_Jupyter_** in the top left corner of the notebook.\n",
    "- In this coding environment, you will not be able to watch the agents while they are training.  However, **_after training the agents_**, you can download the saved model weights to watch the agents on your own machine! "
   ]
  },
  {
   "cell_type": "code",
   "execution_count": 11,
   "metadata": {},
   "outputs": [],
   "source": [
    "# Modified from Continuous Control\n",
    "\n",
    "def train_agent(n_episodes=175, max_t=1100, scores_window_len=100, goal_score = 30, \n",
    "         print_every = 10, save_every=10, resume_training=False, path = 'checkpoint.tar'):\n",
    "    \"\"\"Deep Q-Learning.\n",
    "    Params\n",
    "    ======\n",
    "        n_episodes (int): maximum number of training episodes\n",
    "        max_t (int): maximum number of timesteps per episode\n",
    "        scores_window_len: a rolling window size for averaging the scores\n",
    "        goal_score: the minimum average score required for a satisfactory model\n",
    "        print_every: how often to print an average score for that interval \n",
    "            (average score is not for scores_window_len!)\n",
    "        save_every: interval for saving the model weights, optimizers, and memory\n",
    "        resume_training: whether or not to start training from a saved checkpoint\n",
    "        path: filename for loading and saving the checkpoint\n",
    "    \"\"\"\n",
    "    agents = ddpg_agent.Agent(state_size, action_size, num_agents, RANDOM_SEED)  # create agents\n",
    "    \n",
    "    scores_per_episode = []                                  # List containing agent scores from each episode\n",
    "    time_steps_per_episode = []                              # List containing time_steps from each episode\n",
    "    scores_window = deque(maxlen=scores_window_len)          # last however many scores\n",
    "    \n",
    "    # Load a checkpoint\n",
    "    if resume_training:\n",
    "        agents, scores_per_episode, scores_window, = load_checkpoint(agents, scores_per_episode,\n",
    "                                                                            scores_window, path)  \n",
    "    \n",
    "    for i_episode in range(len(scores_per_episode)+1, n_episodes+1):\n",
    "        env_info = env.reset(train_mode=True)[brain_name]    # reset the environment\n",
    "        states = env_info.vector_observations                # get the current states\n",
    "        scores = np.zeros(num_agents)                        # initialize the score (for each agent)\n",
    "        agents.reset()                                       # reset internal noise state to mu\n",
    "        for t in range(1, max_t+1):          \n",
    "            actions = agents.act(states)                     # agents act\n",
    "            env_info = env.step(actions)[brain_name]         # step the environment\n",
    "            next_states = env_info.vector_observations       # observe next state\n",
    "            rewards = env_info.rewards                       # observe rewards\n",
    "            dones = env_info.local_done                      # observe dones             \n",
    "                                                             # save the experience and learn\n",
    "            agents.step(states, actions, rewards, next_states, dones)\n",
    "            states = next_states                             # roll over states to next time step\n",
    "            scores += rewards                                # update the score (for each agent)\n",
    "                                                             # display time steps and mean of all agent scores\n",
    "            print('\\rEpisode {}\\tScore: {:.2f}\\tTime Step {}\\tSize of memory: {}'\n",
    "                  .format(i_episode, np.mean(scores), t, len(agents.memory)), end=\" \"*5)\n",
    "            if np.any(dones):                                # exit loop if episode finished\n",
    "                break    \n",
    "\n",
    "        scores_window.append(scores)                         # save most recent scores\n",
    "        scores_per_episode.append(scores)                    # save most recent scores\n",
    "        time_steps_per_episode.append(t)                     # save how many time steps the episode lasted\n",
    "        if i_episode % print_every == 0:                     # output average of scores in print_every interval\n",
    "            print('\\rEpisode {}\\tAverage Score: {:.2f}\\tAverage time steps: {:.1f}'\n",
    "                  .format(i_episode, \n",
    "                          np.mean(scores_per_episode[-print_every:]), \n",
    "                          np.mean(time_steps_per_episode[-print_every:])), \n",
    "                  end=\" \"*35+\"\\n\")    \n",
    "        if np.mean(scores_window)>=goal_score:               # proclaim the evironment solved, save checkpoints \n",
    "            print('\\nEnvironment solved in {:d} episodes!\\tAverage Score: {:.2f}'\n",
    "                  .format(i_episode-scores_window_len, np.mean(scores_window)))\n",
    "            save_checkpoint(agents, scores_per_episode, ddpg_agent, path)\n",
    "            break\n",
    "        if i_episode % save_every ==0:                        # save the models\n",
    "            save_checkpoint(agents, scores_per_episode, ddpg_agent, path)\n",
    "    return scores_per_episode, time_steps_per_episode"
   ]
  },
  {
   "cell_type": "code",
   "execution_count": 12,
   "metadata": {},
   "outputs": [],
   "source": [
    "def run_agent(n_episodes=175, max_t=1001, scores_window_len=100, goal_score = 30, \n",
    "              print_every=10, save_every=10,\n",
    "              resume_training=False, path='checkpoint.tar', plot=False, title='Scores'):\n",
    "    \"\"\" Runs an agent over episodes and returns the scores from each episode  \n",
    "        Attempts to make hyperparameter tuning easier\n",
    "        Updates for the changes in the dqn_agent.py file \n",
    "        Relies on the ddpg() function and helper.py functions\n",
    "        plot: whether or not to plot the scores\n",
    "        title: plot title\n",
    "    \"\"\"\n",
    "    \n",
    "    # reload library after modifying Hyperparameters\n",
    "    importlib.reload(ddpg_agent)\n",
    "\n",
    "    # Generate Scores\n",
    "    tic = time.time()\n",
    "    print_hyperparameters(ddpg_agent)       \n",
    "    scores, time_steps = train_agent(n_episodes, max_t, scores_window_len, goal_score, \n",
    "                              print_every, save_every, resume_training, path)\n",
    "    toc = time.time()\n",
    "    print(\"\\nTime elapsed: {:.0f} seconds\".format(toc-tic))\n",
    "\n",
    "    # Plot Scores\n",
    "    if plot == True:\n",
    "        plot_scores(scores, rolling_window=scores_window_len, title=title)\n",
    "\n",
    "    return scores, time_steps"
   ]
  },
  {
   "cell_type": "code",
   "execution_count": null,
   "metadata": {},
   "outputs": [
    {
     "name": "stdout",
     "output_type": "stream",
     "text": [
      "BUFFER_SIZE = 100000\n",
      "BATCH_SIZE = 128\n",
      "GAMMA = 0.99\n",
      "TAU = 0.001\n",
      "LR_ACTOR = 0.0003\n",
      "LR_CRITIC = 0.001\n",
      "WEIGHT_DECAY = 0.0\n",
      "UPDATE_EVERY = 3\n",
      "N_UPDATES = 20\n",
      "FC1_UNITS_ACTOR = 256\n",
      "FC2_UNITS_ACTOR = 128\n",
      "FCS1_UNITS_CRITIC = 256\n",
      "FC2_UNITS_CRITIC = 128\n",
      "Episode 410\tAverage Score: 0.66\tAverage time steps: 269.5                                   \n",
      "Episode 420\tAverage Score: 0.41\tAverage time steps: 173.8                                   \n",
      "Episode 430\tAverage Score: 0.42\tAverage time steps: 180.8                                   \n",
      "Episode 440\tAverage Score: 0.42\tAverage time steps: 176.6                                   \n",
      "Episode 450\tAverage Score: 0.36\tAverage time steps: 150.0                                   \n",
      "Episode 460\tAverage Score: 0.35\tAverage time steps: 149.8                                   \n",
      "Episode 470\tAverage Score: 0.17\tAverage time steps: 80.7                                   \n",
      "Episode 480\tAverage Score: 0.25\tAverage time steps: 113.4                                   \n",
      "Episode 490\tAverage Score: 0.36\tAverage time steps: 155.6                                   \n",
      "Episode 500\tAverage Score: 0.34\tAverage time steps: 147.8                                   \n",
      "Episode 510\tAverage Score: 0.11\tAverage time steps: 57.6                                   \n",
      "Episode 520\tAverage Score: 0.43\tAverage time steps: 180.6                                   \n",
      "Episode 530\tAverage Score: 0.11\tAverage time steps: 56.3                                   \n",
      "Episode 540\tAverage Score: 0.08\tAverage time steps: 45.7                                   \n",
      "Episode 550\tAverage Score: 0.12\tAverage time steps: 60.0                                   \n",
      "Episode 560\tAverage Score: 0.41\tAverage time steps: 171.2                                   \n",
      "Episode 570\tAverage Score: 0.32\tAverage time steps: 139.2                                   \n",
      "Episode 580\tAverage Score: 0.64\tAverage time steps: 257.0                                   \n",
      "Episode 590\tAverage Score: 0.48\tAverage time steps: 197.9                                   \n",
      "Episode 600\tAverage Score: 0.49\tAverage time steps: 203.0                                   \n",
      "Episode 610\tAverage Score: 0.23\tAverage time steps: 99.4                                   \n",
      "Episode 620\tAverage Score: 0.32\tAverage time steps: 141.7                                   \n",
      "Episode 630\tAverage Score: 0.20\tAverage time steps: 91.6                                   \n",
      "Episode 640\tAverage Score: 0.21\tAverage time steps: 94.1                                   \n",
      "Episode 650\tAverage Score: 0.13\tAverage time steps: 68.9                                   \n",
      "Episode 660\tAverage Score: 0.26\tAverage time steps: 112.8                                   \n",
      "Episode 670\tAverage Score: 0.23\tAverage time steps: 99.3                                   \n",
      "Episode 680\tAverage Score: 0.24\tAverage time steps: 108.5                                   \n",
      "Episode 690\tAverage Score: 0.23\tAverage time steps: 102.1                                   \n",
      "Episode 700\tAverage Score: 0.40\tAverage time steps: 168.7                                   \n",
      "Episode 710\tScore: 1.80\tTime Step 706\tSize of memory: 100000     "
     ]
    }
   ],
   "source": [
    "scores, time_steps = run_agent(n_episodes=2000, max_t=3000, scores_window_len=100, goal_score = 0.9, \n",
    "                               print_every=10, save_every=100,\n",
    "                               resume_training=False, path='checkpoint.tar', \n",
    "                               plot=True, title='2 tennis players and update every 3 timesteps')"
   ]
  },
  {
   "cell_type": "code",
   "execution_count": null,
   "metadata": {},
   "outputs": [],
   "source": [
    "def plot_scores(scores, rolling_window=10, title = 'Scores'):\n",
    "    \"\"\" Plots the average score across agents for each episode and a rolling average\"\"\"\n",
    "    fig = plt.figure()\n",
    "    ax = fig.add_subplot(111)\n",
    "    plt.plot(np.arange(len(scores)), np.mean(scores, 1))\n",
    "    rolling_mean = pd.Series(np.mean(scores,1)).rolling(rolling_window, 1).mean()\n",
    "    plt.plot(rolling_mean)\n",
    "    plt.title(title)\n",
    "    plt.ylabel('Score')\n",
    "    plt.xlabel('Episode #')\n",
    "    plt.show()\n",
    "    return None"
   ]
  }
 ],
 "metadata": {
  "kernelspec": {
   "display_name": "Python 3",
   "language": "python",
   "name": "python3"
  },
  "language_info": {
   "codemirror_mode": {
    "name": "ipython",
    "version": 3
   },
   "file_extension": ".py",
   "mimetype": "text/x-python",
   "name": "python",
   "nbconvert_exporter": "python",
   "pygments_lexer": "ipython3",
   "version": "3.6.3"
  }
 },
 "nbformat": 4,
 "nbformat_minor": 2
}
