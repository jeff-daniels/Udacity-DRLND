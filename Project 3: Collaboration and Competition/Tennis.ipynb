{
 "cells": [
  {
   "cell_type": "markdown",
   "metadata": {},
   "source": [
    "# Collaboration and Competition\n",
    "\n",
    "---\n",
    "\n",
    "You are welcome to use this coding environment to train your agent for the project.  Follow the instructions below to get started!\n",
    "\n",
    "### 1. Start the Environment\n",
    "\n",
    "Run the next code cell to install a few packages.  This line will take a few minutes to run!"
   ]
  },
  {
   "cell_type": "code",
   "execution_count": 1,
   "metadata": {},
   "outputs": [
    {
     "name": "stdout",
     "output_type": "stream",
     "text": [
      "\u001b[31mtensorflow 1.7.1 has requirement numpy>=1.13.3, but you'll have numpy 1.12.1 which is incompatible.\u001b[0m\r\n",
      "\u001b[31mipython 6.5.0 has requirement prompt-toolkit<2.0.0,>=1.0.15, but you'll have prompt-toolkit 3.0.5 which is incompatible.\u001b[0m\r\n"
     ]
    }
   ],
   "source": [
    "!pip -q install ./python"
   ]
  },
  {
   "cell_type": "markdown",
   "metadata": {},
   "source": [
    "The environment is already saved in the Workspace and can be accessed at the file path provided below. "
   ]
  },
  {
   "cell_type": "code",
   "execution_count": 2,
   "metadata": {},
   "outputs": [
    {
     "name": "stderr",
     "output_type": "stream",
     "text": [
      "INFO:unityagents:\n",
      "'Academy' started successfully!\n",
      "Unity Academy name: Academy\n",
      "        Number of Brains: 1\n",
      "        Number of External Brains : 1\n",
      "        Lesson number : 0\n",
      "        Reset Parameters :\n",
      "\t\t\n",
      "Unity brain name: TennisBrain\n",
      "        Number of Visual Observations (per agent): 0\n",
      "        Vector Observation space type: continuous\n",
      "        Vector Observation space size (per agent): 8\n",
      "        Number of stacked Vector Observation: 3\n",
      "        Vector Action space type: continuous\n",
      "        Vector Action space size (per agent): 2\n",
      "        Vector Action descriptions: , \n"
     ]
    }
   ],
   "source": [
    "from unityagents import UnityEnvironment\n",
    "import pandas as pd\n",
    "import random\n",
    "import torch\n",
    "\n",
    "from config import Config\n",
    "from normalizer import MeanStdNormalizer\n",
    "from ppo_agent import PPOAgent\n",
    "from network import GaussianActorCriticNet, FCBody\n",
    "\n",
    "from workspace_utils import active_session\n",
    "\n",
    "from utils import *\n",
    "%matplotlib inline\n",
    "\n",
    "RANDOM_SEED = 42\n",
    "\n",
    "env = UnityEnvironment(file_name=\"/data/Tennis_Linux_NoVis/Tennis\")"
   ]
  },
  {
   "cell_type": "markdown",
   "metadata": {},
   "source": [
    "Environments contain **_brains_** which are responsible for deciding the actions of their associated agents. Here we check for the first brain available, and set it as the default brain we will be controlling from Python."
   ]
  },
  {
   "cell_type": "code",
   "execution_count": 3,
   "metadata": {},
   "outputs": [],
   "source": [
    "# get the default brain\n",
    "brain_name = env.brain_names[0]\n",
    "brain = env.brains[brain_name]"
   ]
  },
  {
   "cell_type": "markdown",
   "metadata": {},
   "source": [
    "### 2. Examine the State and Action Spaces\n",
    "\n",
    "Run the code cell below to print some information about the environment."
   ]
  },
  {
   "cell_type": "code",
   "execution_count": 4,
   "metadata": {},
   "outputs": [
    {
     "name": "stdout",
     "output_type": "stream",
     "text": [
      "Number of agents: 2\n",
      "Size of each action: 2\n",
      "There are 2 agents. Each observes a state with length: 24\n",
      "The state for the first agent looks like: [ 0.          0.          0.          0.          0.          0.          0.\n",
      "  0.          0.          0.          0.          0.          0.          0.\n",
      "  0.          0.         -6.65278625 -1.5        -0.          0.\n",
      "  6.83172083  6.         -0.          0.        ]\n"
     ]
    }
   ],
   "source": [
    "# reset the environment\n",
    "env_info = env.reset(train_mode=True)[brain_name]\n",
    "\n",
    "# number of agents \n",
    "num_agents = len(env_info.agents)\n",
    "print('Number of agents:', num_agents)\n",
    "\n",
    "# size of each action\n",
    "action_size = brain.vector_action_space_size\n",
    "print('Size of each action:', action_size)\n",
    "\n",
    "# examine the state space \n",
    "states = env_info.vector_observations\n",
    "state_size = states.shape[1]\n",
    "print('There are {} agents. Each observes a state with length: {}'.format(states.shape[0], state_size))\n",
    "print('The state for the first agent looks like:', states[0])"
   ]
  },
  {
   "cell_type": "markdown",
   "metadata": {},
   "source": [
    "### 3. Take Random Actions in the Environment\n",
    "\n",
    "In the next code cell, you will learn how to use the Python API to control the agent and receive feedback from the environment.\n",
    "\n",
    "Note that **in this coding environment, you will not be able to watch the agents while they are training**, and you should set `train_mode=True` to restart the environment."
   ]
  },
  {
   "cell_type": "code",
   "execution_count": 5,
   "metadata": {},
   "outputs": [
    {
     "name": "stdout",
     "output_type": "stream",
     "text": [
      "Total score (averaged over agents) this episode: 0.04500000085681677\n",
      "Total score (averaged over agents) this episode: -0.004999999888241291\n",
      "Total score (averaged over agents) this episode: -0.004999999888241291\n",
      "Total score (averaged over agents) this episode: -0.004999999888241291\n",
      "Total score (averaged over agents) this episode: -0.004999999888241291\n"
     ]
    }
   ],
   "source": [
    "for i in range(5):                                         # play game for 5 episodes\n",
    "    env_info = env.reset(train_mode=False)[brain_name]     # reset the environment    \n",
    "    states = env_info.vector_observations                  # get the current state (for each agent)\n",
    "    scores = np.zeros(num_agents)                          # initialize the score (for each agent)\n",
    "    while True:\n",
    "        actions = np.random.randn(num_agents, action_size) # select an action (for each agent)\n",
    "        actions = np.clip(actions, -1, 1)                  # all actions between -1 and 1\n",
    "        env_info = env.step(actions)[brain_name]           # send all actions to the environment\n",
    "        next_states = env_info.vector_observations         # get next state (for each agent)\n",
    "        rewards = env_info.rewards                         # get reward (for each agent)\n",
    "        dones = env_info.local_done                        # see if episode finished\n",
    "        scores += env_info.rewards                         # update the score (for each agent)\n",
    "        states = next_states                               # roll over states to next time step\n",
    "        if np.any(dones):                                  # exit loop if episode finished\n",
    "            break\n",
    "    print('Total score (averaged over agents) this episode: {}'.format(np.mean(scores)))"
   ]
  },
  {
   "cell_type": "markdown",
   "metadata": {},
   "source": [
    "When finished, you can close the environment."
   ]
  },
  {
   "cell_type": "code",
   "execution_count": 6,
   "metadata": {},
   "outputs": [],
   "source": [
    "# env.close()"
   ]
  },
  {
   "cell_type": "markdown",
   "metadata": {},
   "source": [
    "### ppo_agent.py"
   ]
  },
  {
   "cell_type": "markdown",
   "metadata": {},
   "source": [
    "#######################################################################\n",
    "# Copyright (C) 2017 Shangtong Zhang(zhangshangtong.cpp@gmail.com)    #\n",
    "# Permission given to modify the code as long as you keep this        #\n",
    "# declaration at the top                                              #\n",
    "#######################################################################\n",
    "\n",
    "# Modified by Jeff Daniels (jeffrey.arthur.daniels@gmail.com) 2020\n",
    "# For Udacity Deep Reinforcement Learning Nanodegree\n",
    "\n",
    "import numpy as np\n",
    "import torch\n",
    "from replay import Storage\n",
    "from torch_utils import to_np, tensor\n",
    "from misc_utils import random_sample \n",
    "\n",
    "class PPOAgent():\n",
    "    def __init__(self, config):\n",
    "        self.config = config\n",
    "        self.environment = config.environment\n",
    "        self.brain_name = config.brain_name\n",
    "        self.network = config.network_fn()\n",
    "        self.actor_opt = config.actor_opt_fn(self.network.actor_params)\n",
    "        self.critic_opt = config.critic_opt_fn(self.network.critic_params)\n",
    "        self.total_steps = 0\n",
    "        self.states = self.environment.reset(train_mode=True)[self.brain_name].vector_observations\n",
    "        self.states = config.state_normalizer(self.states)\n",
    "\n",
    "    def step(self):\n",
    "        config = self.config\n",
    "        storage = Storage(config.rollout_length)\n",
    "        states = self.states\n",
    "        \n",
    "        for _ in range(config.rollout_length):\n",
    "            prediction = self.network(states)\n",
    "\n",
    "            environment_info = self.environment.step(to_np(prediction['a']))[self.brain_name]\n",
    "            next_states = environment_info.vector_observations \n",
    "            rewards = environment_info.rewards\n",
    "            terminals = environment_info.local_done\n",
    "            terminals = np.array([1 if terminal else 0 for terminal in terminals])\n",
    "            rewards = config.reward_normalizer(rewards)\n",
    "            next_states = config.state_normalizer(next_states)\n",
    "            storage.add(prediction)\n",
    "            storage.add({'r': tensor(rewards).unsqueeze(-1),\n",
    "                         'm': tensor(1 - terminals).unsqueeze(-1),\n",
    "                         's': tensor(states)})\n",
    "            states = next_states\n",
    "            self.total_steps += config.num_agents\n",
    "        \n",
    "        self.states = states\n",
    "        prediction = self.network(states)\n",
    "        storage.add(prediction)\n",
    "        storage.placeholder()\n",
    "\n",
    "        advantages = tensor(np.zeros((config.num_workers, 1)))\n",
    "        returns = prediction['v'].detach()\n",
    "        for i in reversed(range(config.rollout_length)):\n",
    "            returns = storage.r[i] + config.discount * storage.m[i] * returns\n",
    "            if not config.use_gae:\n",
    "                advantages = returns - storage.v[i].detach()\n",
    "            else:\n",
    "                td_error = storage.r[i] + config.discount * storage.m[i] * storage.v[i + 1] - storage.v[i]\n",
    "                advantages = advantages * config.gae_tau * config.discount * storage.m[i] + td_error\n",
    "            storage.adv[i] = advantages.detach()\n",
    "            storage.ret[i] = returns.detach()\n",
    "\n",
    "        states, actions, log_probs_old, returns, advantages = storage.cat(['s', 'a', 'log_pi_a', 'ret', 'adv'])\n",
    "        actions = actions.detach()\n",
    "        log_probs_old = log_probs_old.detach()\n",
    "        advantages = (advantages - advantages.mean()) / advantages.std()\n",
    "\n",
    "        for _ in range(config.optimization_epochs):\n",
    "            sampler = random_sample(np.arange(states.size(0)), config.mini_batch_size)\n",
    "            for batch_indices in sampler:\n",
    "                batch_indices = tensor(batch_indices).long()\n",
    "                sampled_states = states[batch_indices]\n",
    "                sampled_actions = actions[batch_indices]\n",
    "                sampled_log_probs_old = log_probs_old[batch_indices]\n",
    "                sampled_returns = returns[batch_indices]\n",
    "                sampled_advantages = advantages[batch_indices]\n",
    "\n",
    "                prediction = self.network(sampled_states, sampled_actions)\n",
    "                ratio = (prediction['log_pi_a'] - sampled_log_probs_old).exp()\n",
    "                obj = ratio * sampled_advantages\n",
    "                obj_clipped = ratio.clamp(1.0 - self.config.ppo_ratio_clip,\n",
    "                                          1.0 + self.config.ppo_ratio_clip) * sampled_advantages\n",
    "                policy_loss = -torch.min(obj, obj_clipped).mean() - config.entropy_weight * prediction['ent'].mean()\n",
    "\n",
    "                value_loss = 0.5 * (sampled_returns - prediction['v']).pow(2).mean()\n",
    "\n",
    "                approx_kl = (sampled_log_probs_old - prediction['log_pi_a']).mean()\n",
    "                if approx_kl <= 1.5 * config.target_kl:\n",
    "                    self.actor_opt.zero_grad()\n",
    "                    policy_loss.backward()\n",
    "                    self.actor_opt.step()\n",
    "\n",
    "                self.critic_opt.zero_grad()\n",
    "                value_loss.backward()\n",
    "                self.critic_opt.step()\n",
    "        \n"
   ]
  },
  {
   "cell_type": "markdown",
   "metadata": {},
   "source": [
    "### utils.py"
   ]
  },
  {
   "cell_type": "markdown",
   "metadata": {},
   "source": [
    "def save_checkpoint(agent, scores_per_episode, steps_per_episode, path='checkpoint.tar'):\n",
    "    \"\"\" saves the model weights and optimizers, the scores_per_episode and the ReplayBuffer memory\"\"\"\n",
    "    torch.save({'scores_per_episode': scores_per_episode, \n",
    "                'steps_per_episode': steps_per_episode,\n",
    "                'network_dict': agent.network.state_dict(),\n",
    "                'actor_opt_dict': agent.actor_opt.state_dict(),\n",
    "                'critic_opt_dict': agent.critic_opt.state_dict()\n",
    "              }, path)"
   ]
  },
  {
   "cell_type": "markdown",
   "metadata": {},
   "source": [
    "def load_checkpoint(agents, scores_per_episode, steps_per_episode, path):\n",
    "    \"\"\" loads a checkpoint to pick up training from the last saved checkpoint\"\"\"\n",
    "    checkpoint = torch.load(path)\n",
    "    scores_per_episode = checkpoint['scores_per_episode']\n",
    "    steps_per_episode = checkpoint['steps_per_episode']\n",
    "    agents.network.load_state_dict(checkpoint['network_dict'])\n",
    "    agents.actor_opt.load_state_dict(checkpoint['actor_opt_dict'])\n",
    "    agents.critic_opt.load_state_dict(checkpoint['critic_opt_dict'])\n",
    "    \n",
    "    return agents, scores_per_episode, steps_per_episode"
   ]
  },
  {
   "cell_type": "markdown",
   "metadata": {},
   "source": [
    "def play_episode(agent):\n",
    "    \"\"\" \n",
    "    Plays a single episode of the environment\n",
    "    returns the mean score of all the agents, and the combined steps of the agents\n",
    "    \"\"\"\n",
    "    config = agent.config\n",
    "    env = config.environment\n",
    "    brain_name = config.brain_name\n",
    "    env_info = env.reset(train_mode=True)[brain_name]    \n",
    "    states = env_info.vector_observations                 \n",
    "    scores = np.zeros(config.num_agents)\n",
    "    steps = 0\n",
    "    while True:\n",
    "        prediction = agent.network(states)\n",
    "        env_info = env.step(prediction['a'].cpu().detach().numpy())[brain_name]\n",
    "        next_states = env_info.vector_observations         \n",
    "        rewards = env_info.rewards                         \n",
    "        dones = env_info.local_done                     \n",
    "        scores += rewards                      \n",
    "        states = next_states      \n",
    "        steps += config.num_agents\n",
    "        if np.any(dones):                                  \n",
    "            break\n",
    "    \n",
    "    return scores, steps"
   ]
  },
  {
   "cell_type": "markdown",
   "metadata": {},
   "source": [
    "import time \n",
    "\n",
    "def run_steps(agent):\n",
    "    config = agent.config\n",
    "    scores_per_episode = []\n",
    "    steps_per_episode = []\n",
    "    max_scores_window = deque(maxlen=config.scores_window_len)\n",
    "    steps_window = deque(maxlen=config.scores_window_len)\n",
    "    toc = time.time()\n",
    "    \n",
    "    if config.load_checkpoint:\n",
    "        agent, scores_per_episode, steps_per_episode = \\\n",
    "        load_checkpoint(agent, scores_per_episode,\n",
    "                        steps_per_episode, config.load_checkpoint_path)\n",
    "        for score in scores_per_episode:\n",
    "            max_scores_window.append(score.max())\n",
    "        for step in steps_per_episode:\n",
    "            steps_window.append(step)\n",
    "    \n",
    "    for episode in range(len(scores_per_episode)+1, config.max_episodes+1):\n",
    "        agent.step()\n",
    "        score, steps = play_episode(agent)\n",
    "        scores_per_episode.append(score)\n",
    "        max_scores_window.append(score.max())\n",
    "        steps_per_episode.append(steps)\n",
    "        steps_window.append(steps)\n",
    "        \n",
    "        # Print out scores after each episode and every print interval\n",
    "        tic = time.time()\n",
    "        s = '\\rEpisode: {}\\tScores: {:.3f} {:.3f}\\tSteps: {}\\tTime Elapsed: {:.1f} min'\n",
    "        print(s.format(episode, score[0], score[1], steps, (tic-toc)/60), end=\" \")\n",
    "        \n",
    "        if episode % config.print_interval == 0:                \n",
    "            s = '\\rEpisode: {}\\tAverage Max Score: {:.3f}\\tAverage steps: {:.1f}'\n",
    "            print(s.format(episode, np.mean(max_scores_window), \n",
    "                           np.mean(steps_per_episode)), end=\" \"*35+\"\\n\")\n",
    "        \n",
    "        if episode % config.save_interval == 0:\n",
    "            path = f'checkpoint-{episode}.tar'\n",
    "            save_checkpoint(agent, scores_per_episode, steps_per_episode, path)\n",
    "        \n",
    "        if (np.mean(max_scores_window) >= config.target_score and \n",
    "            episode >= config.scores_window_len):\n",
    "            print('\\nEnvironment solved in {} episodes!!!'.format(episode))\n",
    "            print('Average score over {} episodes was: {:.3f}'\n",
    "                  .format(config.scores_window_len, np.mean(max_scores_window)))\n",
    "            print('Time Elapsed: {:.1f} min'.format((tic-toc)/60))\n",
    "            path = f'checkpoint-{episode}.tar'\n",
    "            save_checkpoint(agent, scores_per_episode, steps_per_episode, path)\n",
    "            break\n",
    "        \n",
    "    print('Time Elapsed: {:.1f} min'.format((tic-toc)/60))\n",
    "    \n",
    "    return (agent, scores_per_episode, steps_per_episode)\n",
    "\n",
    "        "
   ]
  },
  {
   "cell_type": "markdown",
   "metadata": {},
   "source": [
    "# `RUN ALL ABOVE`"
   ]
  },
  {
   "cell_type": "markdown",
   "metadata": {},
   "source": [
    "### PPO Example"
   ]
  },
  {
   "cell_type": "code",
   "execution_count": 41,
   "metadata": {},
   "outputs": [
    {
     "name": "stdout",
     "output_type": "stream",
     "text": [
      "Episode: 10\tAverage Max Score: 0.039\tAverage steps: 38.4                                   \n",
      "Episode: 20\tAverage Max Score: 0.030\tAverage steps: 31.3                                   \n",
      "Episode: 30\tAverage Max Score: 0.039\tAverage steps: 33.9                                   \n",
      "Episode: 40\tAverage Max Score: 0.041\tAverage steps: 34.0                                   \n",
      "Episode: 50\tAverage Max Score: 0.042\tAverage steps: 32.8                                   \n",
      "Episode: 60\tAverage Max Score: 0.043\tAverage steps: 32.2                                   \n",
      "Episode: 70\tAverage Max Score: 0.040\tAverage steps: 30.0                                   \n",
      "Episode: 80\tAverage Max Score: 0.042\tAverage steps: 30.5                                   \n",
      "Episode: 90\tAverage Max Score: 0.045\tAverage steps: 31.9                                   \n",
      "Episode: 100\tAverage Max Score: 0.044\tAverage steps: 31.9                                   \n",
      "Time Elapsed: 1.6 min\n"
     ]
    }
   ],
   "source": [
    "def ppo_continuous(**kwargs):\n",
    "    kwargs.setdefault('log_level', 0)\n",
    "    config = Config()\n",
    "    config.merge(kwargs)\n",
    "    config.environment = env\n",
    "    config.brain_name = brain_name\n",
    "    config.state_dim = state_size\n",
    "    config.action_dim = action_size\n",
    "    config.num_agents = num_agents\n",
    "    \n",
    "    # Hyperparameters\n",
    "    config.network_fn = lambda: GaussianActorCriticNet(\n",
    "        config.state_dim, config.action_dim, \n",
    "        actor_body=FCBody(config.state_dim, hidden_units=(128, 128), gate=torch.tanh),\n",
    "        critic_body=FCBody(config.state_dim, hidden_units=(128, 128), gate=torch.tanh))\n",
    "    config.actor_opt_fn = lambda params: torch.optim.Adam(params, 3e-4)\n",
    "    config.critic_opt_fn = lambda params: torch.optim.Adam(params, 1e-3)\n",
    "    config.discount = 0.99\n",
    "    config.use_gae = True\n",
    "    config.gae_tau = 0.95\n",
    "    config.gradient_clip = 0.5    \n",
    "    config.rollout_length = 256\n",
    "    config.optimization_epochs = 10\n",
    "    config.mini_batch_size = 32 \n",
    "    config.ppo_ratio_clip = 0.2\n",
    "    config.log_interval = 2048\n",
    "    config.max_steps = int(1e4)\n",
    "    config.target_kl = 0.01\n",
    "    config.state_normalizer = MeanStdNormalizer()\n",
    "    \n",
    "    # Environment solving criteria\n",
    "    config.scores_window_len = 100\n",
    "    config.target_score = 0.5\n",
    "        \n",
    "    # Training Parameters\n",
    "    config.max_episodes = 20\n",
    "    config.print_interval = 10\n",
    "    config.save_interval = 100\n",
    "    config.load_checkpoint = False\n",
    "    config.load_checkpoint_path = f'checkpoint-{10}.tar'\n",
    "    ppo_agent = PPOAgent(config)\n",
    "    agent, scores_per_episode, steps_per_episode = run_steps(ppo_agent)\n",
    "    return agent, scores_per_episode, steps_per_episode\n",
    "\n",
    "\n",
    "\n",
    "#!----------------TRAINING BELOW-------------------!#\n",
    "'''\n",
    "active_session() disallows workspace slumbering\n",
    "https://github.com/udacity/workspaces-student-support/tree/master/jupyter\n",
    "'''\n",
    "\n",
    "with active_session():\n",
    "    agent, scores_per_episode, steps_per_episode = ppo_continuous()"
   ]
  },
  {
   "cell_type": "markdown",
   "metadata": {},
   "source": [
    "# `Set Config and Run All above`"
   ]
  },
  {
   "cell_type": "markdown",
   "metadata": {},
   "source": [
    "### 4. It's Your Turn!\n",
    "\n",
    "Now it's your turn to train your own agent to solve the environment!  A few **important notes**:\n",
    "- When training the environment, set `train_mode=True`, so that the line for resetting the environment looks like the following:\n",
    "```python\n",
    "env_info = env.reset(train_mode=True)[brain_name]\n",
    "```\n",
    "- To structure your work, you're welcome to work directly in this Jupyter notebook, or you might like to start over with a new file!  You can see the list of files in the workspace by clicking on **_Jupyter_** in the top left corner of the notebook.\n",
    "- In this coding environment, you will not be able to watch the agents while they are training.  However, **_after training the agents_**, you can download the saved model weights to watch the agents on your own machine! "
   ]
  }
 ],
 "metadata": {
  "kernelspec": {
   "display_name": "Python 3",
   "language": "python",
   "name": "python3"
  },
  "language_info": {
   "codemirror_mode": {
    "name": "ipython",
    "version": 3
   },
   "file_extension": ".py",
   "mimetype": "text/x-python",
   "name": "python",
   "nbconvert_exporter": "python",
   "pygments_lexer": "ipython3",
   "version": "3.6.3"
  }
 },
 "nbformat": 4,
 "nbformat_minor": 2
}
