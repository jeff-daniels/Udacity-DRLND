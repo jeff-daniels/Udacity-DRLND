{
 "cells": [
  {
   "cell_type": "markdown",
   "metadata": {},
   "source": [
    "# Collaboration and Competition\n",
    "\n",
    "---\n",
    "\n",
    "You are welcome to use this coding environment to train your agent for the project.  Follow the instructions below to get started!\n",
    "\n",
    "### 1. Start the Environment\n",
    "\n",
    "Run the next code cell to install a few packages.  This line will take a few minutes to run!"
   ]
  },
  {
   "cell_type": "code",
   "execution_count": 1,
   "metadata": {},
   "outputs": [
    {
     "name": "stdout",
     "output_type": "stream",
     "text": [
      "\u001b[31mtensorflow 1.7.1 has requirement numpy>=1.13.3, but you'll have numpy 1.12.1 which is incompatible.\u001b[0m\r\n",
      "\u001b[31mipython 6.5.0 has requirement prompt-toolkit<2.0.0,>=1.0.15, but you'll have prompt-toolkit 3.0.5 which is incompatible.\u001b[0m\r\n"
     ]
    }
   ],
   "source": [
    "!pip -q install ./python"
   ]
  },
  {
   "cell_type": "markdown",
   "metadata": {},
   "source": [
    "The environment is already saved in the Workspace and can be accessed at the file path provided below. "
   ]
  },
  {
   "cell_type": "code",
   "execution_count": 2,
   "metadata": {},
   "outputs": [
    {
     "name": "stderr",
     "output_type": "stream",
     "text": [
      "INFO:unityagents:\n",
      "'Academy' started successfully!\n",
      "Unity Academy name: Academy\n",
      "        Number of Brains: 1\n",
      "        Number of External Brains : 1\n",
      "        Lesson number : 0\n",
      "        Reset Parameters :\n",
      "\t\t\n",
      "Unity brain name: TennisBrain\n",
      "        Number of Visual Observations (per agent): 0\n",
      "        Vector Observation space type: continuous\n",
      "        Vector Observation space size (per agent): 8\n",
      "        Number of stacked Vector Observation: 3\n",
      "        Vector Action space type: continuous\n",
      "        Vector Action space size (per agent): 2\n",
      "        Vector Action descriptions: , \n"
     ]
    }
   ],
   "source": [
    "from unityagents import UnityEnvironment\n",
    "import pandas as pd\n",
    "import random\n",
    "import torch\n",
    "from collections import deque\n",
    "\n",
    "# TODO Delete unneccesary imports\n",
    "#from config import Config\n",
    "#from normalizer import MeanStdNormalizer\n",
    "#from ppo_agent import PPOAgent\n",
    "#from network import GaussianActorCriticNet, FCBody\n",
    "import ddpg_agent\n",
    "from helper import *\n",
    "from workspace_utils import active_session\n",
    "\n",
    "%matplotlib inline\n",
    "\n",
    "RANDOM_SEED = 42\n",
    "\n",
    "env = UnityEnvironment(file_name=\"/data/Tennis_Linux_NoVis/Tennis\")"
   ]
  },
  {
   "cell_type": "markdown",
   "metadata": {},
   "source": [
    "Environments contain **_brains_** which are responsible for deciding the actions of their associated agents. Here we check for the first brain available, and set it as the default brain we will be controlling from Python."
   ]
  },
  {
   "cell_type": "code",
   "execution_count": 3,
   "metadata": {},
   "outputs": [],
   "source": [
    "# get the default brain\n",
    "brain_name = env.brain_names[0]\n",
    "brain = env.brains[brain_name]"
   ]
  },
  {
   "cell_type": "markdown",
   "metadata": {},
   "source": [
    "### 2. Examine the State and Action Spaces\n",
    "\n",
    "Run the code cell below to print some information about the environment."
   ]
  },
  {
   "cell_type": "code",
   "execution_count": 4,
   "metadata": {},
   "outputs": [
    {
     "name": "stdout",
     "output_type": "stream",
     "text": [
      "Number of agents: 2\n",
      "Size of each action: 2\n",
      "There are 2 agents. Each observes a state with length: 24\n",
      "The state for the first agent looks like: [ 0.          0.          0.          0.          0.          0.          0.\n",
      "  0.          0.          0.          0.          0.          0.          0.\n",
      "  0.          0.         -6.65278625 -1.5        -0.          0.\n",
      "  6.83172083  6.         -0.          0.        ]\n"
     ]
    }
   ],
   "source": [
    "# reset the environment\n",
    "env_info = env.reset(train_mode=True)[brain_name]\n",
    "\n",
    "# number of agents \n",
    "num_agents = len(env_info.agents)\n",
    "print('Number of agents:', num_agents)\n",
    "\n",
    "# size of each action\n",
    "action_size = brain.vector_action_space_size\n",
    "print('Size of each action:', action_size)\n",
    "\n",
    "# examine the state space \n",
    "states = env_info.vector_observations\n",
    "state_size = states.shape[1]\n",
    "print('There are {} agents. Each observes a state with length: {}'.format(states.shape[0], state_size))\n",
    "print('The state for the first agent looks like:', states[0])"
   ]
  },
  {
   "cell_type": "markdown",
   "metadata": {},
   "source": [
    "### 3. Take Random Actions in the Environment\n",
    "\n",
    "In the next code cell, you will learn how to use the Python API to control the agent and receive feedback from the environment.\n",
    "\n",
    "Note that **in this coding environment, you will not be able to watch the agents while they are training**, and you should set `train_mode=True` to restart the environment."
   ]
  },
  {
   "cell_type": "code",
   "execution_count": 5,
   "metadata": {},
   "outputs": [
    {
     "name": "stdout",
     "output_type": "stream",
     "text": [
      "Scores over this episode: 0.000 -0.010\n",
      "Scores over this episode: -0.010 0.100\n",
      "Scores over this episode: 0.000 -0.010\n",
      "Scores over this episode: 0.000 -0.010\n",
      "Scores over this episode: 0.000 -0.010\n"
     ]
    }
   ],
   "source": [
    "for i in range(5):                                         # play game for 5 episodes\n",
    "    env_info = env.reset(train_mode=False)[brain_name]     # reset the environment    \n",
    "    states = env_info.vector_observations                  # get the current state (for each agent)\n",
    "    scores = np.zeros(num_agents)                          # initialize the score (for each agent)\n",
    "    while True:\n",
    "        actions = np.random.randn(num_agents, action_size) # select an action (for each agent)\n",
    "        actions = np.clip(actions, -1, 1)                  # all actions between -1 and 1\n",
    "        env_info = env.step(actions)[brain_name]           # send all actions to the environment\n",
    "        next_states = env_info.vector_observations         # get next state (for each agent)\n",
    "        rewards = env_info.rewards                         # get reward (for each agent)\n",
    "        dones = env_info.local_done                        # see if episode finished\n",
    "        scores += env_info.rewards                         # update the score (for each agent)\n",
    "        states = next_states                               # roll over states to next time step\n",
    "        if np.any(dones):                                  # exit loop if episode finished\n",
    "            break\n",
    "    print('Scores over this episode: {:.3f} {:.3f}'.format(scores[0], scores[1]))"
   ]
  },
  {
   "cell_type": "markdown",
   "metadata": {},
   "source": [
    "When finished, you can close the environment."
   ]
  },
  {
   "cell_type": "code",
   "execution_count": 6,
   "metadata": {},
   "outputs": [],
   "source": [
    "# env.close()"
   ]
  },
  {
   "cell_type": "markdown",
   "metadata": {},
   "source": [
    "### helper.py"
   ]
  },
  {
   "cell_type": "code",
   "execution_count": 7,
   "metadata": {},
   "outputs": [],
   "source": [
    "# Modified from Navigation\n",
    "\n",
    "def run_steps(max_episodes=1000, max_steps=1e5, scores_window_len=100, target_score = 0.5, \n",
    "               print_interval = 10, save_interval=10, resume_training=False, load_checkpoint_path = 'checkpoint.tar'):\n",
    "    \"\"\"Deep Q-Learning.\n",
    "    Params\n",
    "    ======\n",
    "        n_episodes (int): maximum number of training episodes\n",
    "        max_t (int): maximum number of timesteps per episode\n",
    "        scores_window_len: a rolling window size for averaging the scores\n",
    "        goal_score: the minimum average score required for a satisfactory model\n",
    "        print_every: how often to print an average score for that interval \n",
    "            (average score is not for scores_window_len!)\n",
    "        save_every: interval for saving the model weights, optimizers, and memory\n",
    "        resume_training: whether or not to start training from a saved checkpoint\n",
    "        path: filename for loading and saving the checkpoint\n",
    "    \"\"\"\n",
    "    agents = ddpg_agent.Agent(state_size, action_size, num_agents, RANDOM_SEED)  # create agents\n",
    "              \n",
    "    scores_per_episode = []                                     # List containing agent scores from each episode\n",
    "    steps_per_episode = []\n",
    "    max_scores_window = deque(maxlen=scores_window_len)  # last however many scores\n",
    "    steps_window = deque(maxlen=scores_window_len)\n",
    "    toc = time.time()\n",
    "    \n",
    "    # Load a checkpoint\n",
    "    if resume_training:\n",
    "        agents, scores_per_episode, steps_per_episode = \\\n",
    "        load_checkpoint(agents, scores_per_episode,\n",
    "                        steps_per_episode, load_checkpoint_path)\n",
    "        for score in scores_per_episode:\n",
    "            max_scores_window.append(score.max())\n",
    "        for step in steps_per_episode:\n",
    "            steps_window.append(step)\n",
    "    \n",
    "    for episode in range(len(scores_per_episode)+1, max_episodes+1):\n",
    "        # Run an episode\n",
    "        env_info = env.reset(train_mode=True)[brain_name]    # reset the environment\n",
    "        states = env_info.vector_observations                # get the current states\n",
    "        scores = np.zeros(num_agents)                        # initialize the score (for each agent)\n",
    "        agents.reset()                                       # reset internal noise state to mu\n",
    "        for step in range(1, max_steps+1):          \n",
    "            actions = agents.act(states)                     # agents act\n",
    "            env_info = env.step(actions)[brain_name]         # step the environment\n",
    "            next_states = env_info.vector_observations       # observe next state\n",
    "            rewards = env_info.rewards                       # observe rewards\n",
    "            dones = env_info.local_done                      # observe dones             \n",
    "                                                             # save the experience and learn\n",
    "            agents.step(states, actions, rewards, next_states, dones)\n",
    "            states = next_states                             # roll over states to next time step\n",
    "            scores += rewards                                # update the score (for each agent)\n",
    "                                                             # display time steps and mean of all agent scores\n",
    "            if np.any(dones):                                # exit loop if episode finished\n",
    "                break    \n",
    "        \n",
    "        # Record scores from the episode\n",
    "        scores_per_episode.append(scores)\n",
    "        max_scores_window.append(scores.max())\n",
    "        steps_per_episode.append(step)\n",
    "        steps_window.append(step)\n",
    "        \n",
    "        # Print out scores after each episode and every print interval\n",
    "        tic = time.time()\n",
    "        s = '\\rEpisode: {}\\tScores: {:.3f} {:.3f}\\tSteps: {}\\tTime Elapsed: {:.1f} min'\n",
    "        print(s.format(episode, scores[0], scores[1], step, (tic-toc)/60), end=\" \")\n",
    "        \n",
    "        if episode % print_interval == 0:                \n",
    "            s = '\\rEpisode: {}\\tAverage Max Score: {:.3f}\\tAverage steps: {:.1f}\\tSize of memory: {}'\n",
    "            print(s.format(episode, np.mean(max_scores_window), \n",
    "                           np.mean(steps_window), len(agents.memory)),  end=\" \"*35+\"\\n\")\n",
    "        \n",
    "        if episode % save_interval == 0:\n",
    "            path = f'checkpoint-{episode}.tar'\n",
    "            save_checkpoint(agents, scores_per_episode, steps_per_episode, ddpg_agent, path)\n",
    "        \n",
    "        if (np.mean(max_scores_window) >= target_score and \n",
    "            episode >= scores_window_len):\n",
    "            print('\\nEnvironment solved in {} episodes!!!'.format(episode))\n",
    "            print('Average score over {} episodes was: {:.3f}'\n",
    "                  .format(scores_window_len, np.mean(max_scores_window)))\n",
    "            print('Time Elapsed: {:.1f} min'.format((tic-toc)/60))\n",
    "            path = f'checkpoint-{episode}.tar'\n",
    "            save_checkpoint(agents, scores_per_episode, steps_per_episode, ddpg_agent, path)\n",
    "            break\n",
    "        \n",
    "    print('Time Elapsed: {:.1f} min'.format((tic-toc)/60))\n",
    "    \n",
    "    return scores_per_episode, steps_per_episode"
   ]
  },
  {
   "cell_type": "code",
   "execution_count": 11,
   "metadata": {},
   "outputs": [
    {
     "name": "stdout",
     "output_type": "stream",
     "text": [
      "Episode: 10\tAverage Max Score: 0.009\tAverage steps: 15.8\tSize of memory: 316                                   \n",
      "Episode: 20\tAverage Max Score: 0.005\tAverage steps: 15.0\tSize of memory: 600                                   \n",
      "Time Elapsed: 0.1 min\n"
     ]
    }
   ],
   "source": [
    "with active_session():\n",
    "    scores, steps = run_steps(max_episodes=20, max_steps=10000, scores_window_len=100, target_score = 0.5, \n",
    "                              print_interval=10, save_interval=10,\n",
    "                              resume_training=False, load_checkpoint_path=f'checkpoint-{10}.tar')"
   ]
  },
  {
   "cell_type": "markdown",
   "metadata": {},
   "source": [
    "# `Set Config and Run All above`"
   ]
  },
  {
   "cell_type": "code",
   "execution_count": 12,
   "metadata": {},
   "outputs": [
    {
     "data": {
      "image/png": "[encoded data removed]",
      "text/plain": [
       "<matplotlib.figure.Figure at 0x7fe2cc347e80>"
      ]
     },
     "metadata": {
      "needs_background": "light"
     },
     "output_type": "display_data"
    }
   ],
   "source": [
    "plot_scores([max(score) for score in scores], rolling_window=10, title = 'Scores')"
   ]
  },
  {
   "cell_type": "code",
   "execution_count": 13,
   "metadata": {},
   "outputs": [
    {
     "data": {
      "image/png": "[encoded data removed]",
      "text/plain": [
       "<matplotlib.figure.Figure at 0x7fe2cc25c198>"
      ]
     },
     "metadata": {
      "needs_background": "light"
     },
     "output_type": "display_data"
    }
   ],
   "source": [
    "plot_scores(steps, rolling_window=10, title = 'Steps')"
   ]
  },
  {
   "cell_type": "markdown",
   "metadata": {},
   "source": [
    "### 4. It's Your Turn!\n",
    "\n",
    "Now it's your turn to train your own agent to solve the environment!  A few **important notes**:\n",
    "- When training the environment, set `train_mode=True`, so that the line for resetting the environment looks like the following:\n",
    "```python\n",
    "env_info = env.reset(train_mode=True)[brain_name]\n",
    "```\n",
    "- To structure your work, you're welcome to work directly in this Jupyter notebook, or you might like to start over with a new file!  You can see the list of files in the workspace by clicking on **_Jupyter_** in the top left corner of the notebook.\n",
    "- In this coding environment, you will not be able to watch the agents while they are training.  However, **_after training the agents_**, you can download the saved model weights to watch the agents on your own machine! "
   ]
  }
 ],
 "metadata": {
  "kernelspec": {
   "display_name": "Python 3",
   "language": "python",
   "name": "python3"
  },
  "language_info": {
   "codemirror_mode": {
    "name": "ipython",
    "version": 3
   },
   "file_extension": ".py",
   "mimetype": "text/x-python",
   "name": "python",
   "nbconvert_exporter": "python",
   "pygments_lexer": "ipython3",
   "version": "3.6.3"
  }
 },
 "nbformat": 4,
 "nbformat_minor": 2
}
