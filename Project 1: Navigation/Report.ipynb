{
 "cells": [
  {
   "cell_type": "markdown",
   "metadata": {},
   "source": [
    "# Report\n",
    "## Project 1: Navigation  \n",
    "\n",
    "\n",
    "---\n",
    "\n",
    "You are welcome to use this coding environment to train your agent for the project.  Follow the instructions below to get started!\n",
    "\n",
    "### 1. Start the Environment\n",
    "\n",
    "Run the next code cell to install a few packages.  This line will take a few minutes to run!"
   ]
  },
  {
   "cell_type": "code",
   "execution_count": 1,
   "metadata": {},
   "outputs": [
    {
     "name": "stdout",
     "output_type": "stream",
     "text": [
      "\u001b[31mtensorflow 1.7.1 has requirement numpy>=1.13.3, but you'll have numpy 1.12.1 which is incompatible.\u001b[0m\r\n",
      "\u001b[31mipython 6.5.0 has requirement prompt-toolkit<2.0.0,>=1.0.15, but you'll have prompt-toolkit 3.0.5 which is incompatible.\u001b[0m\r\n"
     ]
    }
   ],
   "source": [
    "!pip -q install ./python"
   ]
  },
  {
   "cell_type": "markdown",
   "metadata": {},
   "source": [
    "The environment is already saved in the Workspace and can be accessed at the file path provided below.  Please run the next code cell without making any changes."
   ]
  },
  {
   "cell_type": "code",
   "execution_count": 2,
   "metadata": {
    "scrolled": true
   },
   "outputs": [
    {
     "name": "stderr",
     "output_type": "stream",
     "text": [
      "INFO:unityagents:\n",
      "'Academy' started successfully!\n",
      "Unity Academy name: Academy\n",
      "        Number of Brains: 1\n",
      "        Number of External Brains : 1\n",
      "        Lesson number : 0\n",
      "        Reset Parameters :\n",
      "\t\t\n",
      "Unity brain name: BananaBrain\n",
      "        Number of Visual Observations (per agent): 0\n",
      "        Vector Observation space type: continuous\n",
      "        Vector Observation space size (per agent): 37\n",
      "        Number of stacked Vector Observation: 1\n",
      "        Vector Action space type: discrete\n",
      "        Vector Action space size (per agent): 4\n",
      "        Vector Action descriptions: , , , \n"
     ]
    }
   ],
   "source": [
    "from unityagents import UnityEnvironment\n",
    "import numpy as np\n",
    "import dqn_agent\n",
    "from collections import deque\n",
    "import importlib\n",
    "import time\n",
    "import torch\n",
    "import matplotlib.pyplot as plt\n",
    "%matplotlib inline\n",
    "import pandas as pd\n",
    "\n",
    "RANDOM_SEED=42\n",
    "\n",
    "# please do not modify the line below\n",
    "env = UnityEnvironment(file_name=\"/data/Banana_Linux_NoVis/Banana.x86_64\", seed=RANDOM_SEED)"
   ]
  },
  {
   "cell_type": "markdown",
   "metadata": {},
   "source": [
    "Environments contain **_brains_** which are responsible for deciding the actions of their associated agents. Here we check for the first brain available, and set it as the default brain we will be controlling from Python."
   ]
  },
  {
   "cell_type": "code",
   "execution_count": 3,
   "metadata": {},
   "outputs": [],
   "source": [
    "# get the default brain\n",
    "brain_name = env.brain_names[0]\n",
    "brain = env.brains[brain_name]"
   ]
  },
  {
   "cell_type": "markdown",
   "metadata": {},
   "source": [
    "### 2. Examine the State and Action Spaces\n",
    "\n",
    "Run the code cell below to print some information about the environment."
   ]
  },
  {
   "cell_type": "code",
   "execution_count": 4,
   "metadata": {},
   "outputs": [
    {
     "name": "stdout",
     "output_type": "stream",
     "text": [
      "Number of agents: 1\n",
      "Number of actions: 4\n",
      "States look like: [ 0.          1.          0.          0.          0.78926337  0.          1.\n",
      "  0.          0.          0.55464244  0.          1.          0.          0.\n",
      "  0.42521358  0.          1.          0.          0.          0.56680632\n",
      "  0.          1.          0.          0.          0.46538338  0.          1.\n",
      "  0.          0.          0.51788217  0.          0.          1.          0.\n",
      "  0.39806581  0.          0.        ]\n",
      "States have length: 37\n"
     ]
    }
   ],
   "source": [
    "# reset the environment\n",
    "env_info = env.reset(train_mode=True)[brain_name]\n",
    "\n",
    "# number of agents in the environment\n",
    "print('Number of agents:', len(env_info.agents))\n",
    "\n",
    "# number of actions\n",
    "ACTION_SIZE = brain.vector_action_space_size\n",
    "print('Number of actions:', ACTION_SIZE)\n",
    "\n",
    "# examine the state space \n",
    "state = env_info.vector_observations[0]\n",
    "print('States look like:', state)\n",
    "STATE_SIZE = len(state)\n",
    "print('States have length:', STATE_SIZE)"
   ]
  },
  {
   "cell_type": "markdown",
   "metadata": {},
   "source": [
    "### 3. Take Random Actions in the Environment\n",
    "\n",
    "In the next code cell, you will learn how to use the Python API to control the agent and receive feedback from the environment.\n",
    "\n",
    "Note that **in this coding environment, you will not be able to watch the agent while it is training**, and you should set `train_mode=True` to restart the environment."
   ]
  },
  {
   "cell_type": "code",
   "execution_count": 5,
   "metadata": {},
   "outputs": [
    {
     "name": "stdout",
     "output_type": "stream",
     "text": [
      "Score: -2.0\n"
     ]
    }
   ],
   "source": [
    "env_info = env.reset(train_mode=True)[brain_name] # reset the environment\n",
    "state = env_info.vector_observations[0]            # get the current state\n",
    "score = 0                                          # initialize the score\n",
    "while True:\n",
    "    action = np.random.randint(ACTION_SIZE)        # select an action\n",
    "    env_info = env.step(action)[brain_name]        # send the action to the environment\n",
    "    next_state = env_info.vector_observations[0]   # get the next state\n",
    "    reward = env_info.rewards[0]                   # get the reward\n",
    "    done = env_info.local_done[0]                  # see if episode has finished\n",
    "    score += reward                                # update the score\n",
    "    state = next_state                             # roll over the state to next time step\n",
    "    if done:                                       # exit loop if episode finished\n",
    "        break\n",
    "    \n",
    "print(\"Score: {}\".format(score))"
   ]
  },
  {
   "cell_type": "markdown",
   "metadata": {},
   "source": [
    "When finished, you can close the environment."
   ]
  },
  {
   "cell_type": "code",
   "execution_count": 6,
   "metadata": {},
   "outputs": [],
   "source": [
    "# env.close()"
   ]
  },
  {
   "cell_type": "markdown",
   "metadata": {},
   "source": [
    "### 4. It's Your Turn!\n",
    "\n",
    "Now it's your turn to train your own agent to solve the environment!  A few **important notes**:\n",
    "- When training the environment, set `train_mode=True`, so that the line for resetting the environment looks like the following:\n",
    "```python\n",
    "env_info = env.reset(train_mode=True)[brain_name]\n",
    "```\n",
    "- To structure your work, you're welcome to work directly in this Jupyter notebook, or you might like to start over with a new file!  You can see the list of files in the workspace by clicking on **_Jupyter_** in the top left corner of the notebook.\n",
    "- In this coding environment, you will not be able to watch the agent while it is training.  However, **_after training the agent_**, you can download the saved model weights to watch the agent on your own machine! "
   ]
  },
  {
   "cell_type": "markdown",
   "metadata": {},
   "source": [
    "### 5. Train an Agent to Solve the Environment  \n",
    "The dqn function trains an agent across several episodes using a Deep Q-Network and epsilon-greedy algorithm.  \n",
    "\n",
    "The function:\n",
    "1. Creates an agent from the Agent class of dqn_agent.py\n",
    "* Trains over a number of episodes and for each time step:\n",
    "    * Determines which action to take\n",
    "    * Performs that action\n",
    "    * Observes the reward and next state \n",
    "    * Updates the Q-function with the state, action, reward, and next state\n",
    "* Updates epsilon after each episode to bias actions from exploratory towards exploitation\n",
    "* Returns the rewards accumulated after each episode.\n",
    "* Stops after the agent is able to average a score greater than the goal, in this case 13, over 100 episodes."
   ]
  },
  {
   "cell_type": "code",
   "execution_count": 7,
   "metadata": {},
   "outputs": [],
   "source": [
    "def dqn(n_episodes=2000, max_t=500, eps_start=1.0, eps_end=0.03, eps_decay=0.95, \n",
    "        scores_window_len=100, goal_score = 13, verbose=1):\n",
    "    \"\"\"Deep Q-Learning.\n",
    "    Params\n",
    "    ======\n",
    "        n_episodes (int): maximum number of training episodes\n",
    "        max_t (int): maximum number of timesteps per episode\n",
    "        eps_start (float): starting value of epsilon, for epsilon-greedy action selection\n",
    "        eps_end (float): minimum value of epsilon\n",
    "        eps_decay (float): multiplicative factor (per episode) for decreasing epsilon\n",
    "        scores_window_len: a rolling window size for averaging the scores\n",
    "        goal_score: the minimum average score required for a satisfactory model\n",
    "        verbose: 0-No output, 1-Score output, 2-Score and Hyperparameter output\n",
    "    \"\"\"\n",
    "    # create an agent\n",
    "    agent = dqn_agent.Agent(state_size=STATE_SIZE, action_size=ACTION_SIZE, seed=RANDOM_SEED)\n",
    "    \n",
    "    scores = [] # list containing scores from each episode\n",
    "    scores_window = deque(maxlen=scores_window_len) # last however many scores\n",
    "    eps = eps_start # initialize epsilon\n",
    "    \n",
    "    # Print out the dqn_agent hyperparameters\n",
    "    if verbose ==2:\n",
    "        print('BUFFER_SIZE = ', dqn_agent.BUFFER_SIZE)\n",
    "        print('BATCH_SIZE = ', dqn_agent.BATCH_SIZE)\n",
    "        print('GAMMA = ', dqn_agent.GAMMA)\n",
    "        print('TAU = ', dqn_agent.TAU)\n",
    "        print('LR = ', dqn_agent.LR)\n",
    "        print('UPDATE_EVERY = {}'.format(dqn_agent.UPDATE_EVERY))\n",
    "        print('Epsilon Decay = {}'.format(eps_decay))\n",
    "        print('Epsilon Min = {}\\n'.format(eps_end))\n",
    "        \n",
    "    \n",
    "    for i_episode in range(1, n_episodes+1):\n",
    "        env_info = env.reset(train_mode=True)[brain_name]\n",
    "        state = env_info.vector_observations[0]\n",
    "        score = 0\n",
    "        for t in range(max_t):\n",
    "            action = agent.act(state, eps)\n",
    "            env_info = env.step(action)[brain_name]\n",
    "            next_state = env_info.vector_observations[0] \n",
    "            reward = env_info.rewards[0]\n",
    "            done = env_info.local_done[0]\n",
    "            agent.step(state, action, reward, next_state, done)\n",
    "            state = next_state\n",
    "            score += reward\n",
    "            if done:\n",
    "                break\n",
    "        scores_window.append(score) # save most recent score\n",
    "        scores.append(score) # save most recent score\n",
    "        eps = max(eps_end, eps_decay*eps) # decrease epsilon\n",
    "        if verbose >=1:\n",
    "            print('\\rEpisode {}\\tAverage Score: {:.2f}'.format(i_episode, np.mean(scores_window)), end=\"\")\n",
    "        if i_episode % scores_window_len == 0:\n",
    "            if verbose >=1: \n",
    "                print('\\rEpisode {}\\tAverage Score: {:.2f}'.format(i_episode, np.mean(scores_window)))\n",
    "        if np.mean(scores_window)>=goal_score:\n",
    "            if verbose >=1:\n",
    "                print('\\nEnvironment solved in {:d} episodes!\\tAverage Score: {:.2f}'\n",
    "                      .format(i_episode-scores_window_len, np.mean(scores_window)))\n",
    "            torch.save(agent.qnetwork_local.state_dict(), 'checkpoint.pth')\n",
    "            break\n",
    "            \n",
    "    return scores"
   ]
  },
  {
   "cell_type": "code",
   "execution_count": 8,
   "metadata": {},
   "outputs": [],
   "source": [
    "def plot_scores(scores, rolling_window=10, title = 'Scores'):\n",
    "    \"\"\" Plots the scores and a rolling average\"\"\"\n",
    "    fig = plt.figure()\n",
    "    ax = fig.add_subplot(111)\n",
    "    plt.plot(np.arange(len(scores)), scores)\n",
    "    rolling_mean = pd.Series(scores).rolling(rolling_window).mean()\n",
    "    plt.plot(rolling_mean)\n",
    "    plt.title(title)\n",
    "    plt.ylabel('Score')\n",
    "    plt.xlabel('Episode #')\n",
    "    plt.show()\n",
    "    return None"
   ]
  },
  {
   "cell_type": "code",
   "execution_count": 9,
   "metadata": {},
   "outputs": [],
   "source": [
    "def generate_scores(n_episodes=2000, max_t=500, eps_start=1.0, eps_end=0.01, eps_decay=0.995, \n",
    "                    scores_window_len=100, goal_score = 13, verbose=1, plot=False, title='Scores'):\n",
    "    \"\"\" Generates scores using the agent.  \n",
    "        Attempts to make hyperparameter tuning easier\n",
    "        Updates for the changes in the dqn_agent.py file \n",
    "    \"\"\"\n",
    "    \n",
    "    # reload library after modifying Hyperparameters\n",
    "    importlib.reload(dqn_agent)\n",
    "\n",
    "    # Generate Scores\n",
    "    tic = time.time()\n",
    "    scores = dqn(n_episodes=n_episodes, eps_end=eps_end, eps_decay=eps_decay,\n",
    "                 scores_window_len=scores_window_len, goal_score=goal_score, verbose=verbose)\n",
    "    toc = time.time()\n",
    "    if verbose >=1:\n",
    "        print(\"\\nTime elapsed: {:.0f} seconds\".format(toc-tic))\n",
    "\n",
    "    # Plot Scores\n",
    "    if plot == True:\n",
    "        plot_scores(scores, rolling_window=scores_window_len, title=title)\n",
    "\n",
    "    return scores"
   ]
  },
  {
   "cell_type": "markdown",
   "metadata": {},
   "source": [
    "### Train the Agent "
   ]
  },
  {
   "cell_type": "code",
   "execution_count": 10,
   "metadata": {},
   "outputs": [
    {
     "name": "stdout",
     "output_type": "stream",
     "text": [
      "BUFFER_SIZE =  100000\n",
      "BATCH_SIZE =  64\n",
      "GAMMA =  0.99\n",
      "TAU =  0.001\n",
      "LR =  0.0005\n",
      "UPDATE_EVERY = 4\n",
      "Epsilon Decay = 0.995\n",
      "Epsilon Min = 0.01\n",
      "\n",
      "Episode 100\tAverage Score: 0.74\n",
      "Episode 200\tAverage Score: 3.88\n",
      "Episode 300\tAverage Score: 8.09\n",
      "Episode 400\tAverage Score: 9.24\n",
      "Episode 500\tAverage Score: 11.82\n",
      "Episode 540\tAverage Score: 13.01\n",
      "Environment solved in 440 episodes!\tAverage Score: 13.01\n",
      "\n",
      "Time elapsed: 419 seconds\n"
     ]
    },
    {
     "data": {
      "image/png": "[encoded data removed]",
      "text/plain": [
       "<matplotlib.figure.Figure at 0x7f81cc86db38>"
      ]
     },
     "metadata": {
      "needs_background": "light"
     },
     "output_type": "display_data"
    }
   ],
   "source": [
    "# Default/Initial hyperparameters\n",
    "\n",
    "_ = generate_scores(n_episodes=2000, max_t=500, eps_start=1.0, eps_end=0.01, eps_decay=0.995, \n",
    "                    scores_window_len=100, goal_score = 13, verbose=2, \n",
    "                    plot=True, title='Default/Initial Hyperparameters')"
   ]
  },
  {
   "cell_type": "markdown",
   "metadata": {},
   "source": [
    "### Hyperparameter Tuning\n",
    "\n",
    "The default model hyperparameters are simply the ones provided in the [`dqn`](https://github.com/udacity/deep-reinforcement-learning/tree/master/dqn) code exercises.  They seemed to work pretty well, but I thought I could do better.  Various changes in the hyperparameters were done manually so I could better understand the effects of the parameters.  Typically, the number of episodes was kept small, 150 or less, for convenience.  Changing most of the parameters did not improve the average scores.  In the end, the only parameter I changed was the epsilon decay rate.  I reduced it to 0.95 from 0.995 which means I discounted future rewards to a greater extent.  This seems sensible because there is not very much long-term strategy to this environment.  I think the agent just reacts to what is in its immediate field of vision.  The hyperparameter tuning process is recorded in the [`Navigation Parameters spreadsheet`](https://github.com/jeff-daniels/Udacity-DRLND/blob/master/Project%201:%20Navigation/%20Navigation%20Hyperparameters.ods)"
   ]
  },
  {
   "cell_type": "code",
   "execution_count": 11,
   "metadata": {},
   "outputs": [
    {
     "name": "stdout",
     "output_type": "stream",
     "text": [
      "BUFFER_SIZE =  100000\n",
      "BATCH_SIZE =  64\n",
      "GAMMA =  0.99\n",
      "TAU =  0.001\n",
      "LR =  0.0005\n",
      "UPDATE_EVERY = 4\n",
      "Epsilon Decay = 0.95\n",
      "Epsilon Min = 0.01\n",
      "\n",
      "Episode 100\tAverage Score: 3.88\n",
      "Episode 200\tAverage Score: 9.42\n",
      "Episode 280\tAverage Score: 13.00\n",
      "Environment solved in 180 episodes!\tAverage Score: 13.00\n",
      "\n",
      "Time elapsed: 213 seconds\n"
     ]
    },
    {
     "data": {
      "image/png": "[encoded data removed]",
      "text/plain": [
       "<matplotlib.figure.Figure at 0x7f815774e240>"
      ]
     },
     "metadata": {
      "needs_background": "light"
     },
     "output_type": "display_data"
    }
   ],
   "source": [
    "# Current best agent\n",
    "_ = generate_scores(n_episodes=600, max_t=500, eps_start=1.0, eps_end=0.01, eps_decay=0.95, \n",
    "                    scores_window_len=100, goal_score = 13, verbose=2, \n",
    "                    plot=True, title='Tuned Hyperparameters, epsilon decay = 0.95')"
   ]
  },
  {
   "cell_type": "markdown",
   "metadata": {},
   "source": [
    "When finished, you may close the environment"
   ]
  },
  {
   "cell_type": "code",
   "execution_count": 12,
   "metadata": {},
   "outputs": [],
   "source": [
    "env.close()"
   ]
  },
  {
   "cell_type": "markdown",
   "metadata": {},
   "source": [
    "## 6. Ideas for future work  \n",
    "The biggest use of time on this project was manually tuning the hyperparameters.  Admittedly I got carried away with this.  This is a task that is best left automated and there are plenty of examples in the annals of machine learning where dictionaries continaing a range of hyperparameter values are fed to a function that searches for the best values.  In the future, I will place more value in automating hyperparamters tuning.  \n",
    "\n",
    "This implementation of a Deep Q-Network is not very complex.  The algorithm could be improved by:\n",
    "* Using a **Double DQN** network which solves the tendency of DQN networks to overestimate the initial action values by using the weights of the target network to evaluate the greedy action.\n",
    "* Using a **Prioritized Experience Replay** that samples experiences with higher priority, priority being granted to experiences deemed more significant but occurring less frequently, with greater probability.  \n",
    "* Using a **Dueling DQN** where the Q function is a summation of two neural network outputs, state values V(s) and advantage values A(s,a)."
   ]
  }
 ],
 "metadata": {
  "kernelspec": {
   "display_name": "Python 3",
   "language": "python",
   "name": "python3"
  },
  "language_info": {
   "codemirror_mode": {
    "name": "ipython",
    "version": 3
   },
   "file_extension": ".py",
   "mimetype": "text/x-python",
   "name": "python",
   "nbconvert_exporter": "python",
   "pygments_lexer": "ipython3",
   "version": "3.6.3"
  }
 },
 "nbformat": 4,
 "nbformat_minor": 2
}
